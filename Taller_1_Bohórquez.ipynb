{
  "nbformat": 4,
  "nbformat_minor": 0,
  "metadata": {
    "colab": {
      "name": "Taller 1 Bohórquez",
      "provenance": []
    },
    "kernelspec": {
      "name": "python3",
      "display_name": "Python 3"
    },
    "language_info": {
      "name": "python"
    }
  },
  "cells": [
    {
      "cell_type": "code",
      "execution_count": 2,
      "metadata": {
        "id": "pj4al6I-lUdf"
      },
      "outputs": [],
      "source": [
        "import pandas as pd\n",
        "import numpy as np\n",
        "from scipy import stats\n",
        "import seaborn as sns\n",
        "from matplotlib import pyplot as plt\n",
        "import warnings\n",
        "warnings.filterwarnings(\"ignore\")"
      ]
    },
    {
      "cell_type": "code",
      "source": [
        "!pip install yfinance\n",
        "import yfinance as yf"
      ],
      "metadata": {
        "colab": {
          "base_uri": "https://localhost:8080/"
        },
        "id": "61nXracOleGo",
        "outputId": "9a7e15cc-4110-4d95-ceea-eda8b1628cc7"
      },
      "execution_count": 3,
      "outputs": [
        {
          "output_type": "stream",
          "name": "stdout",
          "text": [
            "Looking in indexes: https://pypi.org/simple, https://us-python.pkg.dev/colab-wheels/public/simple/\n",
            "Collecting yfinance\n",
            "  Downloading yfinance-0.1.74-py2.py3-none-any.whl (27 kB)\n",
            "Requirement already satisfied: pandas>=0.24.0 in /usr/local/lib/python3.7/dist-packages (from yfinance) (1.3.5)\n",
            "Collecting requests>=2.26\n",
            "  Downloading requests-2.28.1-py3-none-any.whl (62 kB)\n",
            "\u001b[K     |████████████████████████████████| 62 kB 1.1 MB/s \n",
            "\u001b[?25hRequirement already satisfied: multitasking>=0.0.7 in /usr/local/lib/python3.7/dist-packages (from yfinance) (0.0.11)\n",
            "Requirement already satisfied: lxml>=4.5.1 in /usr/local/lib/python3.7/dist-packages (from yfinance) (4.9.1)\n",
            "Requirement already satisfied: numpy>=1.15 in /usr/local/lib/python3.7/dist-packages (from yfinance) (1.21.6)\n",
            "Requirement already satisfied: pytz>=2017.3 in /usr/local/lib/python3.7/dist-packages (from pandas>=0.24.0->yfinance) (2022.2.1)\n",
            "Requirement already satisfied: python-dateutil>=2.7.3 in /usr/local/lib/python3.7/dist-packages (from pandas>=0.24.0->yfinance) (2.8.2)\n",
            "Requirement already satisfied: six>=1.5 in /usr/local/lib/python3.7/dist-packages (from python-dateutil>=2.7.3->pandas>=0.24.0->yfinance) (1.15.0)\n",
            "Requirement already satisfied: charset-normalizer<3,>=2 in /usr/local/lib/python3.7/dist-packages (from requests>=2.26->yfinance) (2.1.0)\n",
            "Requirement already satisfied: urllib3<1.27,>=1.21.1 in /usr/local/lib/python3.7/dist-packages (from requests>=2.26->yfinance) (1.24.3)\n",
            "Requirement already satisfied: idna<4,>=2.5 in /usr/local/lib/python3.7/dist-packages (from requests>=2.26->yfinance) (2.10)\n",
            "Requirement already satisfied: certifi>=2017.4.17 in /usr/local/lib/python3.7/dist-packages (from requests>=2.26->yfinance) (2022.6.15)\n",
            "Installing collected packages: requests, yfinance\n",
            "  Attempting uninstall: requests\n",
            "    Found existing installation: requests 2.23.0\n",
            "    Uninstalling requests-2.23.0:\n",
            "      Successfully uninstalled requests-2.23.0\n",
            "Successfully installed requests-2.28.1 yfinance-0.1.74\n"
          ]
        }
      ]
    },
    {
      "cell_type": "markdown",
      "source": [
        "Punto 1"
      ],
      "metadata": {
        "id": "4KthwCjma18e"
      }
    },
    {
      "cell_type": "code",
      "source": [
        "#Descarga de datos\n",
        "activos = [\"MCD\", \"GE\",\"IBM\",\"T\"]\n",
        "precios = yf.download(activos,start=\"2010-01-01\",end=\"2021-12-31\",interval=\"1Mo\").dropna()\n",
        "precios_adj = precios.loc[:,\"Adj Close\"]\n",
        "precios_adj"
      ],
      "metadata": {
        "colab": {
          "base_uri": "https://localhost:8080/",
          "height": 472
        },
        "id": "mMKXKI6alhvU",
        "outputId": "1e4edb1a-3b98-438c-82ce-199d3cbcb0f8"
      },
      "execution_count": 4,
      "outputs": [
        {
          "output_type": "stream",
          "name": "stdout",
          "text": [
            "[*********************100%***********************]  4 of 4 completed\n"
          ]
        },
        {
          "output_type": "execute_result",
          "data": {
            "text/plain": [
              "                    GE         IBM         MCD          T\n",
              "Date                                                     \n",
              "2010-01-01   91.124489   76.034500   43.710953   7.295421\n",
              "2010-02-01   91.011131   78.997841   44.705177   7.279534\n",
              "2010-03-01  103.782242   80.031357   47.111691   7.581747\n",
              "2010-04-01  107.545769   80.499374   49.844315   7.646302\n",
              "2010-05-01   93.232948   78.165497   47.217613   7.283844\n",
              "...                ...         ...         ...        ...\n",
              "2021-08-01  105.016113  126.196457  232.276596  19.121510\n",
              "2021-09-01  102.645004  126.366852  237.139908  18.835594\n",
              "2021-10-01  104.559380  113.787468  241.506790  17.615221\n",
              "2021-11-01   94.708633  111.410393  240.572433  16.332380\n",
              "2021-12-01   94.190170  128.862701  265.117676  17.598621\n",
              "\n",
              "[144 rows x 4 columns]"
            ],
            "text/html": [
              "\n",
              "  <div id=\"df-1a42f79b-5aec-4082-8f6b-37607b0f64f3\">\n",
              "    <div class=\"colab-df-container\">\n",
              "      <div>\n",
              "<style scoped>\n",
              "    .dataframe tbody tr th:only-of-type {\n",
              "        vertical-align: middle;\n",
              "    }\n",
              "\n",
              "    .dataframe tbody tr th {\n",
              "        vertical-align: top;\n",
              "    }\n",
              "\n",
              "    .dataframe thead th {\n",
              "        text-align: right;\n",
              "    }\n",
              "</style>\n",
              "<table border=\"1\" class=\"dataframe\">\n",
              "  <thead>\n",
              "    <tr style=\"text-align: right;\">\n",
              "      <th></th>\n",
              "      <th>GE</th>\n",
              "      <th>IBM</th>\n",
              "      <th>MCD</th>\n",
              "      <th>T</th>\n",
              "    </tr>\n",
              "    <tr>\n",
              "      <th>Date</th>\n",
              "      <th></th>\n",
              "      <th></th>\n",
              "      <th></th>\n",
              "      <th></th>\n",
              "    </tr>\n",
              "  </thead>\n",
              "  <tbody>\n",
              "    <tr>\n",
              "      <th>2010-01-01</th>\n",
              "      <td>91.124489</td>\n",
              "      <td>76.034500</td>\n",
              "      <td>43.710953</td>\n",
              "      <td>7.295421</td>\n",
              "    </tr>\n",
              "    <tr>\n",
              "      <th>2010-02-01</th>\n",
              "      <td>91.011131</td>\n",
              "      <td>78.997841</td>\n",
              "      <td>44.705177</td>\n",
              "      <td>7.279534</td>\n",
              "    </tr>\n",
              "    <tr>\n",
              "      <th>2010-03-01</th>\n",
              "      <td>103.782242</td>\n",
              "      <td>80.031357</td>\n",
              "      <td>47.111691</td>\n",
              "      <td>7.581747</td>\n",
              "    </tr>\n",
              "    <tr>\n",
              "      <th>2010-04-01</th>\n",
              "      <td>107.545769</td>\n",
              "      <td>80.499374</td>\n",
              "      <td>49.844315</td>\n",
              "      <td>7.646302</td>\n",
              "    </tr>\n",
              "    <tr>\n",
              "      <th>2010-05-01</th>\n",
              "      <td>93.232948</td>\n",
              "      <td>78.165497</td>\n",
              "      <td>47.217613</td>\n",
              "      <td>7.283844</td>\n",
              "    </tr>\n",
              "    <tr>\n",
              "      <th>...</th>\n",
              "      <td>...</td>\n",
              "      <td>...</td>\n",
              "      <td>...</td>\n",
              "      <td>...</td>\n",
              "    </tr>\n",
              "    <tr>\n",
              "      <th>2021-08-01</th>\n",
              "      <td>105.016113</td>\n",
              "      <td>126.196457</td>\n",
              "      <td>232.276596</td>\n",
              "      <td>19.121510</td>\n",
              "    </tr>\n",
              "    <tr>\n",
              "      <th>2021-09-01</th>\n",
              "      <td>102.645004</td>\n",
              "      <td>126.366852</td>\n",
              "      <td>237.139908</td>\n",
              "      <td>18.835594</td>\n",
              "    </tr>\n",
              "    <tr>\n",
              "      <th>2021-10-01</th>\n",
              "      <td>104.559380</td>\n",
              "      <td>113.787468</td>\n",
              "      <td>241.506790</td>\n",
              "      <td>17.615221</td>\n",
              "    </tr>\n",
              "    <tr>\n",
              "      <th>2021-11-01</th>\n",
              "      <td>94.708633</td>\n",
              "      <td>111.410393</td>\n",
              "      <td>240.572433</td>\n",
              "      <td>16.332380</td>\n",
              "    </tr>\n",
              "    <tr>\n",
              "      <th>2021-12-01</th>\n",
              "      <td>94.190170</td>\n",
              "      <td>128.862701</td>\n",
              "      <td>265.117676</td>\n",
              "      <td>17.598621</td>\n",
              "    </tr>\n",
              "  </tbody>\n",
              "</table>\n",
              "<p>144 rows × 4 columns</p>\n",
              "</div>\n",
              "      <button class=\"colab-df-convert\" onclick=\"convertToInteractive('df-1a42f79b-5aec-4082-8f6b-37607b0f64f3')\"\n",
              "              title=\"Convert this dataframe to an interactive table.\"\n",
              "              style=\"display:none;\">\n",
              "        \n",
              "  <svg xmlns=\"http://www.w3.org/2000/svg\" height=\"24px\"viewBox=\"0 0 24 24\"\n",
              "       width=\"24px\">\n",
              "    <path d=\"M0 0h24v24H0V0z\" fill=\"none\"/>\n",
              "    <path d=\"M18.56 5.44l.94 2.06.94-2.06 2.06-.94-2.06-.94-.94-2.06-.94 2.06-2.06.94zm-11 1L8.5 8.5l.94-2.06 2.06-.94-2.06-.94L8.5 2.5l-.94 2.06-2.06.94zm10 10l.94 2.06.94-2.06 2.06-.94-2.06-.94-.94-2.06-.94 2.06-2.06.94z\"/><path d=\"M17.41 7.96l-1.37-1.37c-.4-.4-.92-.59-1.43-.59-.52 0-1.04.2-1.43.59L10.3 9.45l-7.72 7.72c-.78.78-.78 2.05 0 2.83L4 21.41c.39.39.9.59 1.41.59.51 0 1.02-.2 1.41-.59l7.78-7.78 2.81-2.81c.8-.78.8-2.07 0-2.86zM5.41 20L4 18.59l7.72-7.72 1.47 1.35L5.41 20z\"/>\n",
              "  </svg>\n",
              "      </button>\n",
              "      \n",
              "  <style>\n",
              "    .colab-df-container {\n",
              "      display:flex;\n",
              "      flex-wrap:wrap;\n",
              "      gap: 12px;\n",
              "    }\n",
              "\n",
              "    .colab-df-convert {\n",
              "      background-color: #E8F0FE;\n",
              "      border: none;\n",
              "      border-radius: 50%;\n",
              "      cursor: pointer;\n",
              "      display: none;\n",
              "      fill: #1967D2;\n",
              "      height: 32px;\n",
              "      padding: 0 0 0 0;\n",
              "      width: 32px;\n",
              "    }\n",
              "\n",
              "    .colab-df-convert:hover {\n",
              "      background-color: #E2EBFA;\n",
              "      box-shadow: 0px 1px 2px rgba(60, 64, 67, 0.3), 0px 1px 3px 1px rgba(60, 64, 67, 0.15);\n",
              "      fill: #174EA6;\n",
              "    }\n",
              "\n",
              "    [theme=dark] .colab-df-convert {\n",
              "      background-color: #3B4455;\n",
              "      fill: #D2E3FC;\n",
              "    }\n",
              "\n",
              "    [theme=dark] .colab-df-convert:hover {\n",
              "      background-color: #434B5C;\n",
              "      box-shadow: 0px 1px 3px 1px rgba(0, 0, 0, 0.15);\n",
              "      filter: drop-shadow(0px 1px 2px rgba(0, 0, 0, 0.3));\n",
              "      fill: #FFFFFF;\n",
              "    }\n",
              "  </style>\n",
              "\n",
              "      <script>\n",
              "        const buttonEl =\n",
              "          document.querySelector('#df-1a42f79b-5aec-4082-8f6b-37607b0f64f3 button.colab-df-convert');\n",
              "        buttonEl.style.display =\n",
              "          google.colab.kernel.accessAllowed ? 'block' : 'none';\n",
              "\n",
              "        async function convertToInteractive(key) {\n",
              "          const element = document.querySelector('#df-1a42f79b-5aec-4082-8f6b-37607b0f64f3');\n",
              "          const dataTable =\n",
              "            await google.colab.kernel.invokeFunction('convertToInteractive',\n",
              "                                                     [key], {});\n",
              "          if (!dataTable) return;\n",
              "\n",
              "          const docLinkHtml = 'Like what you see? Visit the ' +\n",
              "            '<a target=\"_blank\" href=https://colab.research.google.com/notebooks/data_table.ipynb>data table notebook</a>'\n",
              "            + ' to learn more about interactive tables.';\n",
              "          element.innerHTML = '';\n",
              "          dataTable['output_type'] = 'display_data';\n",
              "          await google.colab.output.renderOutput(dataTable, element);\n",
              "          const docLink = document.createElement('div');\n",
              "          docLink.innerHTML = docLinkHtml;\n",
              "          element.appendChild(docLink);\n",
              "        }\n",
              "      </script>\n",
              "    </div>\n",
              "  </div>\n",
              "  "
            ]
          },
          "metadata": {},
          "execution_count": 4
        }
      ]
    },
    {
      "cell_type": "code",
      "source": [
        "precios_adj.plot();"
      ],
      "metadata": {
        "colab": {
          "base_uri": "https://localhost:8080/",
          "height": 279
        },
        "id": "PQMcq30OlkyF",
        "outputId": "9a873f4f-4240-4eef-a8f7-523f928f8707"
      },
      "execution_count": null,
      "outputs": [
        {
          "output_type": "display_data",
          "data": {
            "text/plain": [
              "<Figure size 432x288 with 1 Axes>"
            ],
            "image/png": "[encoded data removed]"
          },
          "metadata": {
            "needs_background": "light"
          }
        }
      ]
    },
    {
      "cell_type": "code",
      "source": [
        "retornos = precios_adj.pct_change().dropna()\n",
        "retornos.head()"
      ],
      "metadata": {
        "colab": {
          "base_uri": "https://localhost:8080/",
          "height": 238
        },
        "id": "HLKYbWtrlsr9",
        "outputId": "62737094-29aa-4176-f500-bd9c0046b169"
      },
      "execution_count": null,
      "outputs": [
        {
          "output_type": "execute_result",
          "data": {
            "text/plain": [
              "                  GE       IBM       MCD         T\n",
              "Date                                              \n",
              "2010-02-01 -0.001244  0.038974  0.022745 -0.002178\n",
              "2010-03-01  0.140324  0.013082  0.053831  0.041516\n",
              "2010-04-01  0.036264  0.005848  0.058004  0.008514\n",
              "2010-05-01 -0.133086 -0.028992 -0.052699 -0.047403\n",
              "2010-06-01 -0.118042 -0.009157 -0.006678 -0.004526"
            ],
            "text/html": [
              "\n",
              "  <div id=\"df-d1dfaae3-8c66-43fc-ba89-ae96ca98f305\">\n",
              "    <div class=\"colab-df-container\">\n",
              "      <div>\n",
              "<style scoped>\n",
              "    .dataframe tbody tr th:only-of-type {\n",
              "        vertical-align: middle;\n",
              "    }\n",
              "\n",
              "    .dataframe tbody tr th {\n",
              "        vertical-align: top;\n",
              "    }\n",
              "\n",
              "    .dataframe thead th {\n",
              "        text-align: right;\n",
              "    }\n",
              "</style>\n",
              "<table border=\"1\" class=\"dataframe\">\n",
              "  <thead>\n",
              "    <tr style=\"text-align: right;\">\n",
              "      <th></th>\n",
              "      <th>GE</th>\n",
              "      <th>IBM</th>\n",
              "      <th>MCD</th>\n",
              "      <th>T</th>\n",
              "    </tr>\n",
              "    <tr>\n",
              "      <th>Date</th>\n",
              "      <th></th>\n",
              "      <th></th>\n",
              "      <th></th>\n",
              "      <th></th>\n",
              "    </tr>\n",
              "  </thead>\n",
              "  <tbody>\n",
              "    <tr>\n",
              "      <th>2010-02-01</th>\n",
              "      <td>-0.001244</td>\n",
              "      <td>0.038974</td>\n",
              "      <td>0.022745</td>\n",
              "      <td>-0.002178</td>\n",
              "    </tr>\n",
              "    <tr>\n",
              "      <th>2010-03-01</th>\n",
              "      <td>0.140324</td>\n",
              "      <td>0.013082</td>\n",
              "      <td>0.053831</td>\n",
              "      <td>0.041516</td>\n",
              "    </tr>\n",
              "    <tr>\n",
              "      <th>2010-04-01</th>\n",
              "      <td>0.036264</td>\n",
              "      <td>0.005848</td>\n",
              "      <td>0.058004</td>\n",
              "      <td>0.008514</td>\n",
              "    </tr>\n",
              "    <tr>\n",
              "      <th>2010-05-01</th>\n",
              "      <td>-0.133086</td>\n",
              "      <td>-0.028992</td>\n",
              "      <td>-0.052699</td>\n",
              "      <td>-0.047403</td>\n",
              "    </tr>\n",
              "    <tr>\n",
              "      <th>2010-06-01</th>\n",
              "      <td>-0.118042</td>\n",
              "      <td>-0.009157</td>\n",
              "      <td>-0.006678</td>\n",
              "      <td>-0.004526</td>\n",
              "    </tr>\n",
              "  </tbody>\n",
              "</table>\n",
              "</div>\n",
              "      <button class=\"colab-df-convert\" onclick=\"convertToInteractive('df-d1dfaae3-8c66-43fc-ba89-ae96ca98f305')\"\n",
              "              title=\"Convert this dataframe to an interactive table.\"\n",
              "              style=\"display:none;\">\n",
              "        \n",
              "  <svg xmlns=\"http://www.w3.org/2000/svg\" height=\"24px\"viewBox=\"0 0 24 24\"\n",
              "       width=\"24px\">\n",
              "    <path d=\"M0 0h24v24H0V0z\" fill=\"none\"/>\n",
              "    <path d=\"M18.56 5.44l.94 2.06.94-2.06 2.06-.94-2.06-.94-.94-2.06-.94 2.06-2.06.94zm-11 1L8.5 8.5l.94-2.06 2.06-.94-2.06-.94L8.5 2.5l-.94 2.06-2.06.94zm10 10l.94 2.06.94-2.06 2.06-.94-2.06-.94-.94-2.06-.94 2.06-2.06.94z\"/><path d=\"M17.41 7.96l-1.37-1.37c-.4-.4-.92-.59-1.43-.59-.52 0-1.04.2-1.43.59L10.3 9.45l-7.72 7.72c-.78.78-.78 2.05 0 2.83L4 21.41c.39.39.9.59 1.41.59.51 0 1.02-.2 1.41-.59l7.78-7.78 2.81-2.81c.8-.78.8-2.07 0-2.86zM5.41 20L4 18.59l7.72-7.72 1.47 1.35L5.41 20z\"/>\n",
              "  </svg>\n",
              "      </button>\n",
              "      \n",
              "  <style>\n",
              "    .colab-df-container {\n",
              "      display:flex;\n",
              "      flex-wrap:wrap;\n",
              "      gap: 12px;\n",
              "    }\n",
              "\n",
              "    .colab-df-convert {\n",
              "      background-color: #E8F0FE;\n",
              "      border: none;\n",
              "      border-radius: 50%;\n",
              "      cursor: pointer;\n",
              "      display: none;\n",
              "      fill: #1967D2;\n",
              "      height: 32px;\n",
              "      padding: 0 0 0 0;\n",
              "      width: 32px;\n",
              "    }\n",
              "\n",
              "    .colab-df-convert:hover {\n",
              "      background-color: #E2EBFA;\n",
              "      box-shadow: 0px 1px 2px rgba(60, 64, 67, 0.3), 0px 1px 3px 1px rgba(60, 64, 67, 0.15);\n",
              "      fill: #174EA6;\n",
              "    }\n",
              "\n",
              "    [theme=dark] .colab-df-convert {\n",
              "      background-color: #3B4455;\n",
              "      fill: #D2E3FC;\n",
              "    }\n",
              "\n",
              "    [theme=dark] .colab-df-convert:hover {\n",
              "      background-color: #434B5C;\n",
              "      box-shadow: 0px 1px 3px 1px rgba(0, 0, 0, 0.15);\n",
              "      filter: drop-shadow(0px 1px 2px rgba(0, 0, 0, 0.3));\n",
              "      fill: #FFFFFF;\n",
              "    }\n",
              "  </style>\n",
              "\n",
              "      <script>\n",
              "        const buttonEl =\n",
              "          document.querySelector('#df-d1dfaae3-8c66-43fc-ba89-ae96ca98f305 button.colab-df-convert');\n",
              "        buttonEl.style.display =\n",
              "          google.colab.kernel.accessAllowed ? 'block' : 'none';\n",
              "\n",
              "        async function convertToInteractive(key) {\n",
              "          const element = document.querySelector('#df-d1dfaae3-8c66-43fc-ba89-ae96ca98f305');\n",
              "          const dataTable =\n",
              "            await google.colab.kernel.invokeFunction('convertToInteractive',\n",
              "                                                     [key], {});\n",
              "          if (!dataTable) return;\n",
              "\n",
              "          const docLinkHtml = 'Like what you see? Visit the ' +\n",
              "            '<a target=\"_blank\" href=https://colab.research.google.com/notebooks/data_table.ipynb>data table notebook</a>'\n",
              "            + ' to learn more about interactive tables.';\n",
              "          element.innerHTML = '';\n",
              "          dataTable['output_type'] = 'display_data';\n",
              "          await google.colab.output.renderOutput(dataTable, element);\n",
              "          const docLink = document.createElement('div');\n",
              "          docLink.innerHTML = docLinkHtml;\n",
              "          element.appendChild(docLink);\n",
              "        }\n",
              "      </script>\n",
              "    </div>\n",
              "  </div>\n",
              "  "
            ]
          },
          "metadata": {},
          "execution_count": 62
        }
      ]
    },
    {
      "cell_type": "code",
      "source": [
        "#Punto 1a: Calculo de retornos logarítmicos\n",
        "ret=np.log(precios_adj/precios_adj.shift()).dropna()\n",
        "ret.plot();"
      ],
      "metadata": {
        "colab": {
          "base_uri": "https://localhost:8080/",
          "height": 279
        },
        "id": "jgJKW-F1lv-V",
        "outputId": "03212a9c-fb73-4fe4-9aa6-10de7df3c174"
      },
      "execution_count": 6,
      "outputs": [
        {
          "output_type": "display_data",
          "data": {
            "text/plain": [
              "<Figure size 432x288 with 1 Axes>"
            ],
            "image/png": "[encoded data removed]"
          },
          "metadata": {
            "needs_background": "light"
          }
        }
      ]
    },
    {
      "cell_type": "code",
      "source": [
        "#Punto 1b: Descripción de variables\n",
        "ret.describe()"
      ],
      "metadata": {
        "colab": {
          "base_uri": "https://localhost:8080/",
          "height": 300
        },
        "id": "jTgldt0SlzKO",
        "outputId": "49176f77-d754-43b3-9f7e-98eb8f5c5a24"
      },
      "execution_count": null,
      "outputs": [
        {
          "output_type": "execute_result",
          "data": {
            "text/plain": [
              "               GE         IBM         MCD           T\n",
              "count  143.000000  143.000000  143.000000  143.000000\n",
              "mean     0.000231    0.003689    0.012605    0.006158\n",
              "std      0.086937    0.060536    0.042488    0.048299\n",
              "min     -0.315013   -0.270005   -0.154431   -0.189159\n",
              "25%     -0.041398   -0.024861   -0.009248   -0.019500\n",
              "50%     -0.001929    0.002619    0.011742    0.006484\n",
              "75%      0.042081    0.043382    0.040007    0.042621\n",
              "max      0.316246    0.167670    0.130367    0.098672"
            ],
            "text/html": [
              "\n",
              "  <div id=\"df-d9f802ac-cdde-4638-bdc3-08e6856250be\">\n",
              "    <div class=\"colab-df-container\">\n",
              "      <div>\n",
              "<style scoped>\n",
              "    .dataframe tbody tr th:only-of-type {\n",
              "        vertical-align: middle;\n",
              "    }\n",
              "\n",
              "    .dataframe tbody tr th {\n",
              "        vertical-align: top;\n",
              "    }\n",
              "\n",
              "    .dataframe thead th {\n",
              "        text-align: right;\n",
              "    }\n",
              "</style>\n",
              "<table border=\"1\" class=\"dataframe\">\n",
              "  <thead>\n",
              "    <tr style=\"text-align: right;\">\n",
              "      <th></th>\n",
              "      <th>GE</th>\n",
              "      <th>IBM</th>\n",
              "      <th>MCD</th>\n",
              "      <th>T</th>\n",
              "    </tr>\n",
              "  </thead>\n",
              "  <tbody>\n",
              "    <tr>\n",
              "      <th>count</th>\n",
              "      <td>143.000000</td>\n",
              "      <td>143.000000</td>\n",
              "      <td>143.000000</td>\n",
              "      <td>143.000000</td>\n",
              "    </tr>\n",
              "    <tr>\n",
              "      <th>mean</th>\n",
              "      <td>0.000231</td>\n",
              "      <td>0.003689</td>\n",
              "      <td>0.012605</td>\n",
              "      <td>0.006158</td>\n",
              "    </tr>\n",
              "    <tr>\n",
              "      <th>std</th>\n",
              "      <td>0.086937</td>\n",
              "      <td>0.060536</td>\n",
              "      <td>0.042488</td>\n",
              "      <td>0.048299</td>\n",
              "    </tr>\n",
              "    <tr>\n",
              "      <th>min</th>\n",
              "      <td>-0.315013</td>\n",
              "      <td>-0.270005</td>\n",
              "      <td>-0.154431</td>\n",
              "      <td>-0.189159</td>\n",
              "    </tr>\n",
              "    <tr>\n",
              "      <th>25%</th>\n",
              "      <td>-0.041398</td>\n",
              "      <td>-0.024861</td>\n",
              "      <td>-0.009248</td>\n",
              "      <td>-0.019500</td>\n",
              "    </tr>\n",
              "    <tr>\n",
              "      <th>50%</th>\n",
              "      <td>-0.001929</td>\n",
              "      <td>0.002619</td>\n",
              "      <td>0.011742</td>\n",
              "      <td>0.006484</td>\n",
              "    </tr>\n",
              "    <tr>\n",
              "      <th>75%</th>\n",
              "      <td>0.042081</td>\n",
              "      <td>0.043382</td>\n",
              "      <td>0.040007</td>\n",
              "      <td>0.042621</td>\n",
              "    </tr>\n",
              "    <tr>\n",
              "      <th>max</th>\n",
              "      <td>0.316246</td>\n",
              "      <td>0.167670</td>\n",
              "      <td>0.130367</td>\n",
              "      <td>0.098672</td>\n",
              "    </tr>\n",
              "  </tbody>\n",
              "</table>\n",
              "</div>\n",
              "      <button class=\"colab-df-convert\" onclick=\"convertToInteractive('df-d9f802ac-cdde-4638-bdc3-08e6856250be')\"\n",
              "              title=\"Convert this dataframe to an interactive table.\"\n",
              "              style=\"display:none;\">\n",
              "        \n",
              "  <svg xmlns=\"http://www.w3.org/2000/svg\" height=\"24px\"viewBox=\"0 0 24 24\"\n",
              "       width=\"24px\">\n",
              "    <path d=\"M0 0h24v24H0V0z\" fill=\"none\"/>\n",
              "    <path d=\"M18.56 5.44l.94 2.06.94-2.06 2.06-.94-2.06-.94-.94-2.06-.94 2.06-2.06.94zm-11 1L8.5 8.5l.94-2.06 2.06-.94-2.06-.94L8.5 2.5l-.94 2.06-2.06.94zm10 10l.94 2.06.94-2.06 2.06-.94-2.06-.94-.94-2.06-.94 2.06-2.06.94z\"/><path d=\"M17.41 7.96l-1.37-1.37c-.4-.4-.92-.59-1.43-.59-.52 0-1.04.2-1.43.59L10.3 9.45l-7.72 7.72c-.78.78-.78 2.05 0 2.83L4 21.41c.39.39.9.59 1.41.59.51 0 1.02-.2 1.41-.59l7.78-7.78 2.81-2.81c.8-.78.8-2.07 0-2.86zM5.41 20L4 18.59l7.72-7.72 1.47 1.35L5.41 20z\"/>\n",
              "  </svg>\n",
              "      </button>\n",
              "      \n",
              "  <style>\n",
              "    .colab-df-container {\n",
              "      display:flex;\n",
              "      flex-wrap:wrap;\n",
              "      gap: 12px;\n",
              "    }\n",
              "\n",
              "    .colab-df-convert {\n",
              "      background-color: #E8F0FE;\n",
              "      border: none;\n",
              "      border-radius: 50%;\n",
              "      cursor: pointer;\n",
              "      display: none;\n",
              "      fill: #1967D2;\n",
              "      height: 32px;\n",
              "      padding: 0 0 0 0;\n",
              "      width: 32px;\n",
              "    }\n",
              "\n",
              "    .colab-df-convert:hover {\n",
              "      background-color: #E2EBFA;\n",
              "      box-shadow: 0px 1px 2px rgba(60, 64, 67, 0.3), 0px 1px 3px 1px rgba(60, 64, 67, 0.15);\n",
              "      fill: #174EA6;\n",
              "    }\n",
              "\n",
              "    [theme=dark] .colab-df-convert {\n",
              "      background-color: #3B4455;\n",
              "      fill: #D2E3FC;\n",
              "    }\n",
              "\n",
              "    [theme=dark] .colab-df-convert:hover {\n",
              "      background-color: #434B5C;\n",
              "      box-shadow: 0px 1px 3px 1px rgba(0, 0, 0, 0.15);\n",
              "      filter: drop-shadow(0px 1px 2px rgba(0, 0, 0, 0.3));\n",
              "      fill: #FFFFFF;\n",
              "    }\n",
              "  </style>\n",
              "\n",
              "      <script>\n",
              "        const buttonEl =\n",
              "          document.querySelector('#df-d9f802ac-cdde-4638-bdc3-08e6856250be button.colab-df-convert');\n",
              "        buttonEl.style.display =\n",
              "          google.colab.kernel.accessAllowed ? 'block' : 'none';\n",
              "\n",
              "        async function convertToInteractive(key) {\n",
              "          const element = document.querySelector('#df-d9f802ac-cdde-4638-bdc3-08e6856250be');\n",
              "          const dataTable =\n",
              "            await google.colab.kernel.invokeFunction('convertToInteractive',\n",
              "                                                     [key], {});\n",
              "          if (!dataTable) return;\n",
              "\n",
              "          const docLinkHtml = 'Like what you see? Visit the ' +\n",
              "            '<a target=\"_blank\" href=https://colab.research.google.com/notebooks/data_table.ipynb>data table notebook</a>'\n",
              "            + ' to learn more about interactive tables.';\n",
              "          element.innerHTML = '';\n",
              "          dataTable['output_type'] = 'display_data';\n",
              "          await google.colab.output.renderOutput(dataTable, element);\n",
              "          const docLink = document.createElement('div');\n",
              "          docLink.innerHTML = docLinkHtml;\n",
              "          element.appendChild(docLink);\n",
              "        }\n",
              "      </script>\n",
              "    </div>\n",
              "  </div>\n",
              "  "
            ]
          },
          "metadata": {},
          "execution_count": 8
        }
      ]
    },
    {
      "cell_type": "code",
      "source": [
        "#Punto 1b: Descripción de variables\n",
        "stats= {\"Media\":ret.mean(), \"Mediana\":ret.median(), \"Desviación\":ret.std(), \n",
        "        \"Curtosis\": ret.kurt(), \"Simetría\": ret.skew()}\n",
        "Descripción = pd.DataFrame(stats)\n",
        "Descripción"
      ],
      "metadata": {
        "colab": {
          "base_uri": "https://localhost:8080/",
          "height": 175
        },
        "id": "qS9Lpwdo_JIo",
        "outputId": "97b0e556-13dc-4e52-9745-feb14e187c61"
      },
      "execution_count": null,
      "outputs": [
        {
          "output_type": "execute_result",
          "data": {
            "text/plain": [
              "        Media   Mediana  Desviación  Curtosis  Simetría\n",
              "GE   0.000231 -0.001929    0.086937  3.040763 -0.088297\n",
              "IBM  0.003689  0.002619    0.060536  2.653591 -0.564633\n",
              "MCD  0.012605  0.011742    0.042488  1.596974 -0.410192\n",
              "T    0.006158  0.006484    0.048299  1.549802 -0.707907"
            ],
            "text/html": [
              "\n",
              "  <div id=\"df-ff5ee1a0-e98a-46e3-b494-267fb32cb36c\">\n",
              "    <div class=\"colab-df-container\">\n",
              "      <div>\n",
              "<style scoped>\n",
              "    .dataframe tbody tr th:only-of-type {\n",
              "        vertical-align: middle;\n",
              "    }\n",
              "\n",
              "    .dataframe tbody tr th {\n",
              "        vertical-align: top;\n",
              "    }\n",
              "\n",
              "    .dataframe thead th {\n",
              "        text-align: right;\n",
              "    }\n",
              "</style>\n",
              "<table border=\"1\" class=\"dataframe\">\n",
              "  <thead>\n",
              "    <tr style=\"text-align: right;\">\n",
              "      <th></th>\n",
              "      <th>Media</th>\n",
              "      <th>Mediana</th>\n",
              "      <th>Desviación</th>\n",
              "      <th>Curtosis</th>\n",
              "      <th>Simetría</th>\n",
              "    </tr>\n",
              "  </thead>\n",
              "  <tbody>\n",
              "    <tr>\n",
              "      <th>GE</th>\n",
              "      <td>0.000231</td>\n",
              "      <td>-0.001929</td>\n",
              "      <td>0.086937</td>\n",
              "      <td>3.040763</td>\n",
              "      <td>-0.088297</td>\n",
              "    </tr>\n",
              "    <tr>\n",
              "      <th>IBM</th>\n",
              "      <td>0.003689</td>\n",
              "      <td>0.002619</td>\n",
              "      <td>0.060536</td>\n",
              "      <td>2.653591</td>\n",
              "      <td>-0.564633</td>\n",
              "    </tr>\n",
              "    <tr>\n",
              "      <th>MCD</th>\n",
              "      <td>0.012605</td>\n",
              "      <td>0.011742</td>\n",
              "      <td>0.042488</td>\n",
              "      <td>1.596974</td>\n",
              "      <td>-0.410192</td>\n",
              "    </tr>\n",
              "    <tr>\n",
              "      <th>T</th>\n",
              "      <td>0.006158</td>\n",
              "      <td>0.006484</td>\n",
              "      <td>0.048299</td>\n",
              "      <td>1.549802</td>\n",
              "      <td>-0.707907</td>\n",
              "    </tr>\n",
              "  </tbody>\n",
              "</table>\n",
              "</div>\n",
              "      <button class=\"colab-df-convert\" onclick=\"convertToInteractive('df-ff5ee1a0-e98a-46e3-b494-267fb32cb36c')\"\n",
              "              title=\"Convert this dataframe to an interactive table.\"\n",
              "              style=\"display:none;\">\n",
              "        \n",
              "  <svg xmlns=\"http://www.w3.org/2000/svg\" height=\"24px\"viewBox=\"0 0 24 24\"\n",
              "       width=\"24px\">\n",
              "    <path d=\"M0 0h24v24H0V0z\" fill=\"none\"/>\n",
              "    <path d=\"M18.56 5.44l.94 2.06.94-2.06 2.06-.94-2.06-.94-.94-2.06-.94 2.06-2.06.94zm-11 1L8.5 8.5l.94-2.06 2.06-.94-2.06-.94L8.5 2.5l-.94 2.06-2.06.94zm10 10l.94 2.06.94-2.06 2.06-.94-2.06-.94-.94-2.06-.94 2.06-2.06.94z\"/><path d=\"M17.41 7.96l-1.37-1.37c-.4-.4-.92-.59-1.43-.59-.52 0-1.04.2-1.43.59L10.3 9.45l-7.72 7.72c-.78.78-.78 2.05 0 2.83L4 21.41c.39.39.9.59 1.41.59.51 0 1.02-.2 1.41-.59l7.78-7.78 2.81-2.81c.8-.78.8-2.07 0-2.86zM5.41 20L4 18.59l7.72-7.72 1.47 1.35L5.41 20z\"/>\n",
              "  </svg>\n",
              "      </button>\n",
              "      \n",
              "  <style>\n",
              "    .colab-df-container {\n",
              "      display:flex;\n",
              "      flex-wrap:wrap;\n",
              "      gap: 12px;\n",
              "    }\n",
              "\n",
              "    .colab-df-convert {\n",
              "      background-color: #E8F0FE;\n",
              "      border: none;\n",
              "      border-radius: 50%;\n",
              "      cursor: pointer;\n",
              "      display: none;\n",
              "      fill: #1967D2;\n",
              "      height: 32px;\n",
              "      padding: 0 0 0 0;\n",
              "      width: 32px;\n",
              "    }\n",
              "\n",
              "    .colab-df-convert:hover {\n",
              "      background-color: #E2EBFA;\n",
              "      box-shadow: 0px 1px 2px rgba(60, 64, 67, 0.3), 0px 1px 3px 1px rgba(60, 64, 67, 0.15);\n",
              "      fill: #174EA6;\n",
              "    }\n",
              "\n",
              "    [theme=dark] .colab-df-convert {\n",
              "      background-color: #3B4455;\n",
              "      fill: #D2E3FC;\n",
              "    }\n",
              "\n",
              "    [theme=dark] .colab-df-convert:hover {\n",
              "      background-color: #434B5C;\n",
              "      box-shadow: 0px 1px 3px 1px rgba(0, 0, 0, 0.15);\n",
              "      filter: drop-shadow(0px 1px 2px rgba(0, 0, 0, 0.3));\n",
              "      fill: #FFFFFF;\n",
              "    }\n",
              "  </style>\n",
              "\n",
              "      <script>\n",
              "        const buttonEl =\n",
              "          document.querySelector('#df-ff5ee1a0-e98a-46e3-b494-267fb32cb36c button.colab-df-convert');\n",
              "        buttonEl.style.display =\n",
              "          google.colab.kernel.accessAllowed ? 'block' : 'none';\n",
              "\n",
              "        async function convertToInteractive(key) {\n",
              "          const element = document.querySelector('#df-ff5ee1a0-e98a-46e3-b494-267fb32cb36c');\n",
              "          const dataTable =\n",
              "            await google.colab.kernel.invokeFunction('convertToInteractive',\n",
              "                                                     [key], {});\n",
              "          if (!dataTable) return;\n",
              "\n",
              "          const docLinkHtml = 'Like what you see? Visit the ' +\n",
              "            '<a target=\"_blank\" href=https://colab.research.google.com/notebooks/data_table.ipynb>data table notebook</a>'\n",
              "            + ' to learn more about interactive tables.';\n",
              "          element.innerHTML = '';\n",
              "          dataTable['output_type'] = 'display_data';\n",
              "          await google.colab.output.renderOutput(dataTable, element);\n",
              "          const docLink = document.createElement('div');\n",
              "          docLink.innerHTML = docLinkHtml;\n",
              "          element.appendChild(docLink);\n",
              "        }\n",
              "      </script>\n",
              "    </div>\n",
              "  </div>\n",
              "  "
            ]
          },
          "metadata": {},
          "execution_count": 9
        }
      ]
    },
    {
      "cell_type": "markdown",
      "source": [
        "Por la anterior información podemos ver cómo, para 3 de los 4 activos la curtosis es inferior a 3, lo que quiere decir que su distribución tiene una forma platicúrtica, es decir, los valores de estos activos tienen una baja concentración en torno a su media.\n",
        "Para el activo GE, dada su curtosis, se ve una distribución aproximada a la mesocúrtica, es decir, existe una concentración normal en torno a su media.\n"
      ],
      "metadata": {
        "id": "u5Lr9rUyQPSy"
      }
    },
    {
      "cell_type": "code",
      "source": [
        "#Punto 1c: Retornos esperados y volatilidades para los activos\n",
        "mean,sigma=ret['GE'].mean(),ret[\"GE\"].std()\n",
        "mean,sigma\n",
        "datosGE = mean*12,sigma*np.sqrt(12)\n",
        "datosGE"
      ],
      "metadata": {
        "id": "DYvK83oxOIoz",
        "colab": {
          "base_uri": "https://localhost:8080/"
        },
        "outputId": "93b48cdd-ce4e-41a4-aa7a-147775f394aa"
      },
      "execution_count": null,
      "outputs": [
        {
          "output_type": "execute_result",
          "data": {
            "text/plain": [
              "(0.0027767124593385075, 0.3011571896842215)"
            ]
          },
          "metadata": {},
          "execution_count": 53
        }
      ]
    },
    {
      "cell_type": "code",
      "source": [
        "mean,sigma=ret['IBM'].mean(),ret[\"IBM\"].std()\n",
        "mean,sigma\n",
        "datosIBM = mean*12,sigma*np.sqrt(12)\n",
        "datosIBM"
      ],
      "metadata": {
        "colab": {
          "base_uri": "https://localhost:8080/"
        },
        "id": "TXNZ55B5v02U",
        "outputId": "29186b46-3bf8-4366-ac85-20c8ecb23381"
      },
      "execution_count": null,
      "outputs": [
        {
          "output_type": "execute_result",
          "data": {
            "text/plain": [
              "(0.04427082296124397, 0.20970330986802557)"
            ]
          },
          "metadata": {},
          "execution_count": 54
        }
      ]
    },
    {
      "cell_type": "code",
      "source": [
        "mean,sigma=ret['MCD'].mean(),ret[\"MCD\"].std()\n",
        "mean,sigma\n",
        "datosMCD = mean*12,sigma*np.sqrt(12)\n",
        "datosMCD"
      ],
      "metadata": {
        "colab": {
          "base_uri": "https://localhost:8080/"
        },
        "id": "TxHECtHoweKW",
        "outputId": "9ea85f15-90e1-4c33-a627-052fbacfa6c8"
      },
      "execution_count": null,
      "outputs": [
        {
          "output_type": "execute_result",
          "data": {
            "text/plain": [
              "(0.1512650197971706, 0.147183510494918)"
            ]
          },
          "metadata": {},
          "execution_count": 55
        }
      ]
    },
    {
      "cell_type": "code",
      "source": [
        "mean,sigma=ret['T'].mean(),ret[\"T\"].std()\n",
        "mean,sigma\n",
        "datosT = mean*12,sigma*np.sqrt(12)\n",
        "datosT"
      ],
      "metadata": {
        "colab": {
          "base_uri": "https://localhost:8080/"
        },
        "id": "okKzQ2r4wVNA",
        "outputId": "078dc7c3-a6eb-435b-ded2-0506c7063e5c"
      },
      "execution_count": null,
      "outputs": [
        {
          "output_type": "execute_result",
          "data": {
            "text/plain": [
              "(0.07389430221119705, 0.16731138772299328)"
            ]
          },
          "metadata": {},
          "execution_count": 56
        }
      ]
    },
    {
      "cell_type": "code",
      "source": [
        "datosdf = {\"GE\":datosGE, \"IBM\":datosIBM, \"MCD\":datosMCD,\"T\":datosT}\n",
        "df = pd.DataFrame(datosdf, index = [\"R esperado\", \"Volatilidad\"])\n",
        "df"
      ],
      "metadata": {
        "colab": {
          "base_uri": "https://localhost:8080/",
          "height": 112
        },
        "id": "OJ_qkKfwwqRA",
        "outputId": "8e237fcc-7d0c-4b3b-ac57-426ec95fdeab"
      },
      "execution_count": null,
      "outputs": [
        {
          "output_type": "execute_result",
          "data": {
            "text/plain": [
              "                   GE       IBM       MCD         T\n",
              "R esperado   0.002777  0.044271  0.151265  0.073894\n",
              "Volatilidad  0.301157  0.209703  0.147184  0.167311"
            ],
            "text/html": [
              "\n",
              "  <div id=\"df-5666d1c1-6055-4e39-b841-b17d683f5f26\">\n",
              "    <div class=\"colab-df-container\">\n",
              "      <div>\n",
              "<style scoped>\n",
              "    .dataframe tbody tr th:only-of-type {\n",
              "        vertical-align: middle;\n",
              "    }\n",
              "\n",
              "    .dataframe tbody tr th {\n",
              "        vertical-align: top;\n",
              "    }\n",
              "\n",
              "    .dataframe thead th {\n",
              "        text-align: right;\n",
              "    }\n",
              "</style>\n",
              "<table border=\"1\" class=\"dataframe\">\n",
              "  <thead>\n",
              "    <tr style=\"text-align: right;\">\n",
              "      <th></th>\n",
              "      <th>GE</th>\n",
              "      <th>IBM</th>\n",
              "      <th>MCD</th>\n",
              "      <th>T</th>\n",
              "    </tr>\n",
              "  </thead>\n",
              "  <tbody>\n",
              "    <tr>\n",
              "      <th>R esperado</th>\n",
              "      <td>0.002777</td>\n",
              "      <td>0.044271</td>\n",
              "      <td>0.151265</td>\n",
              "      <td>0.073894</td>\n",
              "    </tr>\n",
              "    <tr>\n",
              "      <th>Volatilidad</th>\n",
              "      <td>0.301157</td>\n",
              "      <td>0.209703</td>\n",
              "      <td>0.147184</td>\n",
              "      <td>0.167311</td>\n",
              "    </tr>\n",
              "  </tbody>\n",
              "</table>\n",
              "</div>\n",
              "      <button class=\"colab-df-convert\" onclick=\"convertToInteractive('df-5666d1c1-6055-4e39-b841-b17d683f5f26')\"\n",
              "              title=\"Convert this dataframe to an interactive table.\"\n",
              "              style=\"display:none;\">\n",
              "        \n",
              "  <svg xmlns=\"http://www.w3.org/2000/svg\" height=\"24px\"viewBox=\"0 0 24 24\"\n",
              "       width=\"24px\">\n",
              "    <path d=\"M0 0h24v24H0V0z\" fill=\"none\"/>\n",
              "    <path d=\"M18.56 5.44l.94 2.06.94-2.06 2.06-.94-2.06-.94-.94-2.06-.94 2.06-2.06.94zm-11 1L8.5 8.5l.94-2.06 2.06-.94-2.06-.94L8.5 2.5l-.94 2.06-2.06.94zm10 10l.94 2.06.94-2.06 2.06-.94-2.06-.94-.94-2.06-.94 2.06-2.06.94z\"/><path d=\"M17.41 7.96l-1.37-1.37c-.4-.4-.92-.59-1.43-.59-.52 0-1.04.2-1.43.59L10.3 9.45l-7.72 7.72c-.78.78-.78 2.05 0 2.83L4 21.41c.39.39.9.59 1.41.59.51 0 1.02-.2 1.41-.59l7.78-7.78 2.81-2.81c.8-.78.8-2.07 0-2.86zM5.41 20L4 18.59l7.72-7.72 1.47 1.35L5.41 20z\"/>\n",
              "  </svg>\n",
              "      </button>\n",
              "      \n",
              "  <style>\n",
              "    .colab-df-container {\n",
              "      display:flex;\n",
              "      flex-wrap:wrap;\n",
              "      gap: 12px;\n",
              "    }\n",
              "\n",
              "    .colab-df-convert {\n",
              "      background-color: #E8F0FE;\n",
              "      border: none;\n",
              "      border-radius: 50%;\n",
              "      cursor: pointer;\n",
              "      display: none;\n",
              "      fill: #1967D2;\n",
              "      height: 32px;\n",
              "      padding: 0 0 0 0;\n",
              "      width: 32px;\n",
              "    }\n",
              "\n",
              "    .colab-df-convert:hover {\n",
              "      background-color: #E2EBFA;\n",
              "      box-shadow: 0px 1px 2px rgba(60, 64, 67, 0.3), 0px 1px 3px 1px rgba(60, 64, 67, 0.15);\n",
              "      fill: #174EA6;\n",
              "    }\n",
              "\n",
              "    [theme=dark] .colab-df-convert {\n",
              "      background-color: #3B4455;\n",
              "      fill: #D2E3FC;\n",
              "    }\n",
              "\n",
              "    [theme=dark] .colab-df-convert:hover {\n",
              "      background-color: #434B5C;\n",
              "      box-shadow: 0px 1px 3px 1px rgba(0, 0, 0, 0.15);\n",
              "      filter: drop-shadow(0px 1px 2px rgba(0, 0, 0, 0.3));\n",
              "      fill: #FFFFFF;\n",
              "    }\n",
              "  </style>\n",
              "\n",
              "      <script>\n",
              "        const buttonEl =\n",
              "          document.querySelector('#df-5666d1c1-6055-4e39-b841-b17d683f5f26 button.colab-df-convert');\n",
              "        buttonEl.style.display =\n",
              "          google.colab.kernel.accessAllowed ? 'block' : 'none';\n",
              "\n",
              "        async function convertToInteractive(key) {\n",
              "          const element = document.querySelector('#df-5666d1c1-6055-4e39-b841-b17d683f5f26');\n",
              "          const dataTable =\n",
              "            await google.colab.kernel.invokeFunction('convertToInteractive',\n",
              "                                                     [key], {});\n",
              "          if (!dataTable) return;\n",
              "\n",
              "          const docLinkHtml = 'Like what you see? Visit the ' +\n",
              "            '<a target=\"_blank\" href=https://colab.research.google.com/notebooks/data_table.ipynb>data table notebook</a>'\n",
              "            + ' to learn more about interactive tables.';\n",
              "          element.innerHTML = '';\n",
              "          dataTable['output_type'] = 'display_data';\n",
              "          await google.colab.output.renderOutput(dataTable, element);\n",
              "          const docLink = document.createElement('div');\n",
              "          docLink.innerHTML = docLinkHtml;\n",
              "          element.appendChild(docLink);\n",
              "        }\n",
              "      </script>\n",
              "    </div>\n",
              "  </div>\n",
              "  "
            ]
          },
          "metadata": {},
          "execution_count": 59
        }
      ]
    },
    {
      "cell_type": "markdown",
      "source": [
        "De este punto se puede destacar que el activo con retornos más volatiles es General Electric (\"GE\"). Si se observa la gráfica para los retornos continuos se observa que, efectivamente, GE tiene los puntos más altos y bajos, principalmente entre 2018 y 2021. Sin embargo, no es quien tiene un mayor retorno esperado, ya que este corresponde a McDonalds (\"MCD\"), que tiene además la volatilidad más baja."
      ],
      "metadata": {
        "id": "JPCf36B1Xrpg"
      }
    },
    {
      "cell_type": "code",
      "source": [
        "#Punto 1d: Matriz de correlación de pearson\n",
        "matriz_correlacion=ret.corr().round(2)\n",
        "sns.heatmap(data=matriz_correlacion,annot=True,annot_kws={\"size\": 10});"
      ],
      "metadata": {
        "colab": {
          "base_uri": "https://localhost:8080/",
          "height": 269
        },
        "id": "NLktZgXSl1br",
        "outputId": "9a49a66b-2d45-4a4f-a082-fd14f82c300a"
      },
      "execution_count": null,
      "outputs": [
        {
          "output_type": "display_data",
          "data": {
            "text/plain": [
              "<Figure size 432x288 with 2 Axes>"
            ],
            "image/png": "[encoded data removed]"
          },
          "metadata": {
            "needs_background": "light"
          }
        }
      ]
    },
    {
      "cell_type": "code",
      "source": [
        "#Punto 1d: matriz de correlación de spearman\n",
        "matriz_correlacion=ret.corr(method = \"spearman\").round(2)\n",
        "sns.heatmap(data=matriz_correlacion,annot=True,annot_kws={\"size\": 10});"
      ],
      "metadata": {
        "colab": {
          "base_uri": "https://localhost:8080/",
          "height": 269
        },
        "id": "GXuS9UPTKQMa",
        "outputId": "f9ff4106-6aeb-478b-a57a-910fa50a7383"
      },
      "execution_count": null,
      "outputs": [
        {
          "output_type": "display_data",
          "data": {
            "text/plain": [
              "<Figure size 432x288 with 2 Axes>"
            ],
            "image/png": "[encoded data removed]"
          },
          "metadata": {
            "needs_background": "light"
          }
        }
      ]
    },
    {
      "cell_type": "markdown",
      "source": [
        "Para ambos coeficientes, en la matriz, no se observan correlaciones negativas, es decir, ningun activo tiene una relación inversa con otra. Sin embargo, se observa que la relación para todos los activos, con la excepción de 1 casos, es baja. Dicha excepción es IBM con AT&T, cuya relación es moderada, la primera se desempeña en el sector tecnológico, mientras que el segundo en el de telecomunicaciones, por lo que, a pesar de no tener una correlación fuerte, se entiende por qué pude tener una mayor correlación con respecto al resto de activos.\n",
        "Por otro lado, quienes tienen la correlación más baja son GE y MCD. Curiosamente el activo con mayor volatilidad y menor retorno esperado, y el activo con menor volatilidad y mayor retorno esperado respectivamente."
      ],
      "metadata": {
        "id": "SqUJdFfJaYG1"
      }
    },
    {
      "cell_type": "code",
      "source": [
        "#e Histograma para GE\n",
        "sns.color_palette(\"rocket\", as_cmap=True)\n",
        "sns.histplot(data=ret, x=\"GE\", kde=True);"
      ],
      "metadata": {
        "colab": {
          "base_uri": "https://localhost:8080/",
          "height": 279
        },
        "id": "Rr6CeCkg6HNU",
        "outputId": "34734274-d7df-4b42-b8be-e6db2e924a2a"
      },
      "execution_count": 8,
      "outputs": [
        {
          "output_type": "display_data",
          "data": {
            "text/plain": [
              "<Figure size 432x288 with 1 Axes>"
            ],
            "image/png": "[encoded data removed]"
          },
          "metadata": {
            "needs_background": "light"
          }
        }
      ]
    },
    {
      "cell_type": "code",
      "source": [
        "#e Histograma para MCD\n",
        "sns.histplot(data=ret, x=\"T\", kde=True);"
      ],
      "metadata": {
        "colab": {
          "base_uri": "https://localhost:8080/",
          "height": 279
        },
        "id": "t4xoGXvu-QOA",
        "outputId": "40427e0a-ea3c-4bcb-e886-69699cd5cf9e"
      },
      "execution_count": 9,
      "outputs": [
        {
          "output_type": "display_data",
          "data": {
            "text/plain": [
              "<Figure size 432x288 with 1 Axes>"
            ],
            "image/png": "[encoded data removed]"
          },
          "metadata": {
            "needs_background": "light"
          }
        }
      ]
    },
    {
      "cell_type": "markdown",
      "source": [
        "Se eligieron estos activos debido a los coeficientes de curtosis de ambos, el más alto y más bajo respectivamente, y se observa como, en efecto, General Electric tiene una forma más parecida a una distribución normal que en el caso de AT&T.\n",
        "Para confirmar estas supociciones, se realiza una prueba Kolmogorov-Smirnov"
      ],
      "metadata": {
        "id": "NhQ4nD-Uc8FY"
      }
    },
    {
      "cell_type": "code",
      "source": [
        "#f Prueba de Kolmogorov-Smirnov\n",
        "GE = stats.kstest(ret[\"GE\"],'norm')\n",
        "IBM = stats.kstest(ret[\"IBM\"],'norm')\n",
        "MCD = stats.kstest(ret[\"MCD\"],'norm')\n",
        "T = stats.kstest(ret[\"T\"],'norm')\n",
        "\n",
        "stats2={\"GE\":GE, \"IBM\":IBM, \"MCD\":MCD,\"T\":T}\n",
        "df2=pd.DataFrame(stats2, index=[\"Statistic\", \"p-value\"])\n",
        "df2"
      ],
      "metadata": {
        "colab": {
          "base_uri": "https://localhost:8080/",
          "height": 112
        },
        "id": "0lWdmMjw-ddD",
        "outputId": "8b65e524-fab1-43c7-a9f7-750219453e65"
      },
      "execution_count": null,
      "outputs": [
        {
          "output_type": "execute_result",
          "data": {
            "text/plain": [
              "                     GE           IBM           MCD             T\n",
              "Statistic  4.159826e-01  4.372657e-01  4.543298e-01  4.606994e-01\n",
              "p-value    6.374863e-23  2.144168e-25  1.736400e-27  2.713516e-28"
            ],
            "text/html": [
              "\n",
              "  <div id=\"df-7903e325-56b9-463e-91c3-ad049a9bc8ea\">\n",
              "    <div class=\"colab-df-container\">\n",
              "      <div>\n",
              "<style scoped>\n",
              "    .dataframe tbody tr th:only-of-type {\n",
              "        vertical-align: middle;\n",
              "    }\n",
              "\n",
              "    .dataframe tbody tr th {\n",
              "        vertical-align: top;\n",
              "    }\n",
              "\n",
              "    .dataframe thead th {\n",
              "        text-align: right;\n",
              "    }\n",
              "</style>\n",
              "<table border=\"1\" class=\"dataframe\">\n",
              "  <thead>\n",
              "    <tr style=\"text-align: right;\">\n",
              "      <th></th>\n",
              "      <th>GE</th>\n",
              "      <th>IBM</th>\n",
              "      <th>MCD</th>\n",
              "      <th>T</th>\n",
              "    </tr>\n",
              "  </thead>\n",
              "  <tbody>\n",
              "    <tr>\n",
              "      <th>Statistic</th>\n",
              "      <td>4.159826e-01</td>\n",
              "      <td>4.372657e-01</td>\n",
              "      <td>4.543298e-01</td>\n",
              "      <td>4.606994e-01</td>\n",
              "    </tr>\n",
              "    <tr>\n",
              "      <th>p-value</th>\n",
              "      <td>6.374863e-23</td>\n",
              "      <td>2.144168e-25</td>\n",
              "      <td>1.736400e-27</td>\n",
              "      <td>2.713516e-28</td>\n",
              "    </tr>\n",
              "  </tbody>\n",
              "</table>\n",
              "</div>\n",
              "      <button class=\"colab-df-convert\" onclick=\"convertToInteractive('df-7903e325-56b9-463e-91c3-ad049a9bc8ea')\"\n",
              "              title=\"Convert this dataframe to an interactive table.\"\n",
              "              style=\"display:none;\">\n",
              "        \n",
              "  <svg xmlns=\"http://www.w3.org/2000/svg\" height=\"24px\"viewBox=\"0 0 24 24\"\n",
              "       width=\"24px\">\n",
              "    <path d=\"M0 0h24v24H0V0z\" fill=\"none\"/>\n",
              "    <path d=\"M18.56 5.44l.94 2.06.94-2.06 2.06-.94-2.06-.94-.94-2.06-.94 2.06-2.06.94zm-11 1L8.5 8.5l.94-2.06 2.06-.94-2.06-.94L8.5 2.5l-.94 2.06-2.06.94zm10 10l.94 2.06.94-2.06 2.06-.94-2.06-.94-.94-2.06-.94 2.06-2.06.94z\"/><path d=\"M17.41 7.96l-1.37-1.37c-.4-.4-.92-.59-1.43-.59-.52 0-1.04.2-1.43.59L10.3 9.45l-7.72 7.72c-.78.78-.78 2.05 0 2.83L4 21.41c.39.39.9.59 1.41.59.51 0 1.02-.2 1.41-.59l7.78-7.78 2.81-2.81c.8-.78.8-2.07 0-2.86zM5.41 20L4 18.59l7.72-7.72 1.47 1.35L5.41 20z\"/>\n",
              "  </svg>\n",
              "      </button>\n",
              "      \n",
              "  <style>\n",
              "    .colab-df-container {\n",
              "      display:flex;\n",
              "      flex-wrap:wrap;\n",
              "      gap: 12px;\n",
              "    }\n",
              "\n",
              "    .colab-df-convert {\n",
              "      background-color: #E8F0FE;\n",
              "      border: none;\n",
              "      border-radius: 50%;\n",
              "      cursor: pointer;\n",
              "      display: none;\n",
              "      fill: #1967D2;\n",
              "      height: 32px;\n",
              "      padding: 0 0 0 0;\n",
              "      width: 32px;\n",
              "    }\n",
              "\n",
              "    .colab-df-convert:hover {\n",
              "      background-color: #E2EBFA;\n",
              "      box-shadow: 0px 1px 2px rgba(60, 64, 67, 0.3), 0px 1px 3px 1px rgba(60, 64, 67, 0.15);\n",
              "      fill: #174EA6;\n",
              "    }\n",
              "\n",
              "    [theme=dark] .colab-df-convert {\n",
              "      background-color: #3B4455;\n",
              "      fill: #D2E3FC;\n",
              "    }\n",
              "\n",
              "    [theme=dark] .colab-df-convert:hover {\n",
              "      background-color: #434B5C;\n",
              "      box-shadow: 0px 1px 3px 1px rgba(0, 0, 0, 0.15);\n",
              "      filter: drop-shadow(0px 1px 2px rgba(0, 0, 0, 0.3));\n",
              "      fill: #FFFFFF;\n",
              "    }\n",
              "  </style>\n",
              "\n",
              "      <script>\n",
              "        const buttonEl =\n",
              "          document.querySelector('#df-7903e325-56b9-463e-91c3-ad049a9bc8ea button.colab-df-convert');\n",
              "        buttonEl.style.display =\n",
              "          google.colab.kernel.accessAllowed ? 'block' : 'none';\n",
              "\n",
              "        async function convertToInteractive(key) {\n",
              "          const element = document.querySelector('#df-7903e325-56b9-463e-91c3-ad049a9bc8ea');\n",
              "          const dataTable =\n",
              "            await google.colab.kernel.invokeFunction('convertToInteractive',\n",
              "                                                     [key], {});\n",
              "          if (!dataTable) return;\n",
              "\n",
              "          const docLinkHtml = 'Like what you see? Visit the ' +\n",
              "            '<a target=\"_blank\" href=https://colab.research.google.com/notebooks/data_table.ipynb>data table notebook</a>'\n",
              "            + ' to learn more about interactive tables.';\n",
              "          element.innerHTML = '';\n",
              "          dataTable['output_type'] = 'display_data';\n",
              "          await google.colab.output.renderOutput(dataTable, element);\n",
              "          const docLink = document.createElement('div');\n",
              "          docLink.innerHTML = docLinkHtml;\n",
              "          element.appendChild(docLink);\n",
              "        }\n",
              "      </script>\n",
              "    </div>\n",
              "  </div>\n",
              "  "
            ]
          },
          "metadata": {},
          "execution_count": 17
        }
      ]
    },
    {
      "cell_type": "markdown",
      "source": [
        "Punto 2"
      ],
      "metadata": {
        "id": "ga70NVVBbMla"
      }
    },
    {
      "cell_type": "code",
      "source": [
        "#i) Volatilidad con desviación estándar\n",
        "sigma_m = ret.std()\n",
        "mean_m=ret.mean()\n",
        "sigma_m"
      ],
      "metadata": {
        "colab": {
          "base_uri": "https://localhost:8080/"
        },
        "id": "DRTNKbb_lnvB",
        "outputId": "7696b37d-ef22-4761-f97a-05c27599c953"
      },
      "execution_count": null,
      "outputs": [
        {
          "output_type": "execute_result",
          "data": {
            "text/plain": [
              "GE     0.086937\n",
              "IBM    0.060536\n",
              "MCD    0.042488\n",
              "T      0.048299\n",
              "dtype: float64"
            ]
          },
          "metadata": {},
          "execution_count": 33
        }
      ]
    },
    {
      "cell_type": "code",
      "source": [
        "#i) Volatilidad con desviación estándar anualizada\n",
        "sigma_m = ret.std()\n",
        "mean_m=ret.mean()\n",
        "sigma=sigma_m*np.sqrt(12)\n",
        "sigma"
      ],
      "metadata": {
        "colab": {
          "base_uri": "https://localhost:8080/"
        },
        "id": "5-JAYajHbMYC",
        "outputId": "d254b569-8a1f-4c24-a982-872469138b7c"
      },
      "execution_count": null,
      "outputs": [
        {
          "output_type": "execute_result",
          "data": {
            "text/plain": [
              "GE     0.301157\n",
              "IBM    0.209703\n",
              "MCD    0.147184\n",
              "T      0.167311\n",
              "dtype: float64"
            ]
          },
          "metadata": {},
          "execution_count": 18
        }
      ]
    },
    {
      "cell_type": "code",
      "source": [
        "roll_std = (ret.rolling(window=30).std())\n",
        "roll_std.plot();"
      ],
      "metadata": {
        "colab": {
          "base_uri": "https://localhost:8080/",
          "height": 279
        },
        "id": "-fV8zBl9cFc7",
        "outputId": "f9d0c17b-c520-43c3-b39c-350a3368e8ce"
      },
      "execution_count": null,
      "outputs": [
        {
          "output_type": "display_data",
          "data": {
            "text/plain": [
              "<Figure size 432x288 with 1 Axes>"
            ],
            "image/png": "[encoded data removed]"
          },
          "metadata": {
            "needs_background": "light"
          }
        }
      ]
    },
    {
      "cell_type": "code",
      "source": [
        "# ii) Volatilidad con parkinson\n",
        "lnHL = np.log(precios[\"High\"]/precios[\"Low\"]).dropna()\n",
        "sigmaPark_m = ((1/(4*np.log(2)))*lnHL**2)**0.5\n",
        "sigmaPark_m\n",
        "sigmaPark_m.plot();"
      ],
      "metadata": {
        "colab": {
          "base_uri": "https://localhost:8080/",
          "height": 279
        },
        "id": "_rAljWa6nBTR",
        "outputId": "99805845-0ec0-4938-a76a-0ecf88012305"
      },
      "execution_count": null,
      "outputs": [
        {
          "output_type": "display_data",
          "data": {
            "text/plain": [
              "<Figure size 432x288 with 1 Axes>"
            ],
            "image/png": "[encoded data removed]"
          },
          "metadata": {
            "needs_background": "light"
          }
        }
      ]
    },
    {
      "cell_type": "code",
      "source": [
        "# Volatilidad con parkinson anualizada\n",
        "from numpy.ma.core import sqrt\n",
        "sigmaPark=sigmaPark_m.mean()*np.sqrt(12)\n",
        "sigmaPark"
      ],
      "metadata": {
        "colab": {
          "base_uri": "https://localhost:8080/"
        },
        "id": "B6IAplDWdh-c",
        "outputId": "c62fd11c-5f68-45be-c51b-8d40f0cbba75"
      },
      "execution_count": null,
      "outputs": [
        {
          "output_type": "execute_result",
          "data": {
            "text/plain": [
              "GE     0.267589\n",
              "IBM    0.187842\n",
              "MCD    0.147625\n",
              "T      0.167825\n",
              "dtype: float64"
            ]
          },
          "metadata": {},
          "execution_count": 37
        }
      ]
    },
    {
      "cell_type": "code",
      "source": [
        "#iii) Volatilidad de Garman-Klass\n",
        "lnHL = np.log(precios[\"High\"]/precios[\"Low\"]).dropna()\n",
        "lnCO = np.log(precios[\"Close\"]/precios[\"Open\"]).dropna()\n",
        "sigmaGK_m = (0.5*lnHL**2-(2*np.log(2)-1)*lnCO**2)**0.5\n",
        "sigmaGK_m.plot();"
      ],
      "metadata": {
        "colab": {
          "base_uri": "https://localhost:8080/",
          "height": 279
        },
        "id": "7gZ52OmReLVg",
        "outputId": "e1f3fdb0-5020-4c6e-d396-b31a74346f48"
      },
      "execution_count": null,
      "outputs": [
        {
          "output_type": "display_data",
          "data": {
            "text/plain": [
              "<Figure size 432x288 with 1 Axes>"
            ],
            "image/png": "[encoded data removed]"
          },
          "metadata": {
            "needs_background": "light"
          }
        }
      ]
    },
    {
      "cell_type": "code",
      "source": [
        "#Volatilidad anualizada de Garman-Klass\n",
        "sigmaGK=sigmaGK_m.mean()*np.sqrt(12)\n",
        "sigmaGK"
      ],
      "metadata": {
        "colab": {
          "base_uri": "https://localhost:8080/"
        },
        "id": "_Q2Iks-RegAg",
        "outputId": "42227425-1f4b-4cb9-9612-1b8520e6ceca"
      },
      "execution_count": null,
      "outputs": [
        {
          "output_type": "execute_result",
          "data": {
            "text/plain": [
              "GE     0.274446\n",
              "IBM    0.191380\n",
              "MCD    0.152538\n",
              "T      0.172823\n",
              "dtype: float64"
            ]
          },
          "metadata": {},
          "execution_count": 40
        }
      ]
    },
    {
      "cell_type": "code",
      "source": [
        "#iv) Volatilidad ponderada exponencial\n",
        "# Definir la función\n",
        "def EWMAvol(ret,Lambda):\n",
        "  m = len(ret[\"GE\"]) \n",
        "  b = np.arange(m-1,-1,-1) # secuencia decreciente\n",
        "  l = np.repeat(Lambda,m)\n",
        "\n",
        "  varewma = ((np.power(ret[\"GE\"],2)*(np.power(l,b))).sum())*(1-Lambda)\n",
        "  EWMAvol = np.sqrt(varewma)\n",
        "  return(EWMAvol)"
      ],
      "metadata": {
        "id": "Yarlio40gK_1"
      },
      "execution_count": null,
      "outputs": []
    },
    {
      "cell_type": "code",
      "source": [
        "#Sigmaewma anualizada para los activos\n",
        "Lambda = 0.94\n",
        "sigmaewmaGE = EWMAvol(ret[\"GE\"],0.94)*np.sqrt(12)\n",
        "sigmaewmaGE"
      ],
      "metadata": {
        "colab": {
          "base_uri": "https://localhost:8080/"
        },
        "id": "DDtnYD5AhKMU",
        "outputId": "51750bdc-7080-492c-c159-017ccd787027"
      },
      "execution_count": null,
      "outputs": [
        {
          "output_type": "execute_result",
          "data": {
            "text/plain": [
              "0.36506067326550556"
            ]
          },
          "metadata": {},
          "execution_count": 25
        }
      ]
    },
    {
      "cell_type": "code",
      "source": [
        "sigmaewmaIBM = EWMAvol(ret[\"IBM\"],Lambda)*np.sqrt(12)\n",
        "sigmaewmaIBM"
      ],
      "metadata": {
        "colab": {
          "base_uri": "https://localhost:8080/"
        },
        "id": "UbHm0WFFhuNC",
        "outputId": "92543a11-7e78-4457-8bc1-15b6da820cae"
      },
      "execution_count": null,
      "outputs": [
        {
          "output_type": "execute_result",
          "data": {
            "text/plain": [
              "0.2563707936738064"
            ]
          },
          "metadata": {},
          "execution_count": 26
        }
      ]
    },
    {
      "cell_type": "code",
      "source": [
        "sigmaewmaMCD = EWMAvol(ret[\"MCD\"],Lambda)*np.sqrt(12)\n",
        "sigmaewmaMCD"
      ],
      "metadata": {
        "colab": {
          "base_uri": "https://localhost:8080/"
        },
        "id": "7M9diu16jH0z",
        "outputId": "1ac3e76f-c281-485d-ba27-67070e7b5a64"
      },
      "execution_count": null,
      "outputs": [
        {
          "output_type": "execute_result",
          "data": {
            "text/plain": [
              "0.1818067759960261"
            ]
          },
          "metadata": {},
          "execution_count": 27
        }
      ]
    },
    {
      "cell_type": "code",
      "source": [
        "sigmaewmaT = EWMAvol(ret[\"T\"],Lambda)*np.sqrt(12)\n",
        "sigmaewmaT"
      ],
      "metadata": {
        "colab": {
          "base_uri": "https://localhost:8080/"
        },
        "id": "1wGcc2XVjWoi",
        "outputId": "4aeec234-2fbc-48a0-c22b-5765d631a9bc"
      },
      "execution_count": null,
      "outputs": [
        {
          "output_type": "execute_result",
          "data": {
            "text/plain": [
              "0.18827761903793963"
            ]
          },
          "metadata": {},
          "execution_count": 28
        }
      ]
    },
    {
      "cell_type": "code",
      "source": [
        "results = [sigmaewmaGE, sigmaewmaIBM, sigmaewmaMCD, sigmaewmaT]\n",
        "ewmastats={\"EWMA\":results}\n",
        "ewma=pd.DataFrame(ewmastats, index=[\"GE\",\"IBM\", \"MCD\", \"T\"])\n",
        "ewma"
      ],
      "metadata": {
        "colab": {
          "base_uri": "https://localhost:8080/",
          "height": 175
        },
        "id": "IBKDZELKmaz3",
        "outputId": "1660a6b6-f926-4b9b-b41f-6e229096bee6"
      },
      "execution_count": null,
      "outputs": [
        {
          "output_type": "execute_result",
          "data": {
            "text/plain": [
              "         EWMA\n",
              "GE   0.365061\n",
              "IBM  0.256371\n",
              "MCD  0.181807\n",
              "T    0.188278"
            ],
            "text/html": [
              "\n",
              "  <div id=\"df-f5dc7dbf-2166-45f7-87f4-43ce7a4dbb3b\">\n",
              "    <div class=\"colab-df-container\">\n",
              "      <div>\n",
              "<style scoped>\n",
              "    .dataframe tbody tr th:only-of-type {\n",
              "        vertical-align: middle;\n",
              "    }\n",
              "\n",
              "    .dataframe tbody tr th {\n",
              "        vertical-align: top;\n",
              "    }\n",
              "\n",
              "    .dataframe thead th {\n",
              "        text-align: right;\n",
              "    }\n",
              "</style>\n",
              "<table border=\"1\" class=\"dataframe\">\n",
              "  <thead>\n",
              "    <tr style=\"text-align: right;\">\n",
              "      <th></th>\n",
              "      <th>EWMA</th>\n",
              "    </tr>\n",
              "  </thead>\n",
              "  <tbody>\n",
              "    <tr>\n",
              "      <th>GE</th>\n",
              "      <td>0.365061</td>\n",
              "    </tr>\n",
              "    <tr>\n",
              "      <th>IBM</th>\n",
              "      <td>0.256371</td>\n",
              "    </tr>\n",
              "    <tr>\n",
              "      <th>MCD</th>\n",
              "      <td>0.181807</td>\n",
              "    </tr>\n",
              "    <tr>\n",
              "      <th>T</th>\n",
              "      <td>0.188278</td>\n",
              "    </tr>\n",
              "  </tbody>\n",
              "</table>\n",
              "</div>\n",
              "      <button class=\"colab-df-convert\" onclick=\"convertToInteractive('df-f5dc7dbf-2166-45f7-87f4-43ce7a4dbb3b')\"\n",
              "              title=\"Convert this dataframe to an interactive table.\"\n",
              "              style=\"display:none;\">\n",
              "        \n",
              "  <svg xmlns=\"http://www.w3.org/2000/svg\" height=\"24px\"viewBox=\"0 0 24 24\"\n",
              "       width=\"24px\">\n",
              "    <path d=\"M0 0h24v24H0V0z\" fill=\"none\"/>\n",
              "    <path d=\"M18.56 5.44l.94 2.06.94-2.06 2.06-.94-2.06-.94-.94-2.06-.94 2.06-2.06.94zm-11 1L8.5 8.5l.94-2.06 2.06-.94-2.06-.94L8.5 2.5l-.94 2.06-2.06.94zm10 10l.94 2.06.94-2.06 2.06-.94-2.06-.94-.94-2.06-.94 2.06-2.06.94z\"/><path d=\"M17.41 7.96l-1.37-1.37c-.4-.4-.92-.59-1.43-.59-.52 0-1.04.2-1.43.59L10.3 9.45l-7.72 7.72c-.78.78-.78 2.05 0 2.83L4 21.41c.39.39.9.59 1.41.59.51 0 1.02-.2 1.41-.59l7.78-7.78 2.81-2.81c.8-.78.8-2.07 0-2.86zM5.41 20L4 18.59l7.72-7.72 1.47 1.35L5.41 20z\"/>\n",
              "  </svg>\n",
              "      </button>\n",
              "      \n",
              "  <style>\n",
              "    .colab-df-container {\n",
              "      display:flex;\n",
              "      flex-wrap:wrap;\n",
              "      gap: 12px;\n",
              "    }\n",
              "\n",
              "    .colab-df-convert {\n",
              "      background-color: #E8F0FE;\n",
              "      border: none;\n",
              "      border-radius: 50%;\n",
              "      cursor: pointer;\n",
              "      display: none;\n",
              "      fill: #1967D2;\n",
              "      height: 32px;\n",
              "      padding: 0 0 0 0;\n",
              "      width: 32px;\n",
              "    }\n",
              "\n",
              "    .colab-df-convert:hover {\n",
              "      background-color: #E2EBFA;\n",
              "      box-shadow: 0px 1px 2px rgba(60, 64, 67, 0.3), 0px 1px 3px 1px rgba(60, 64, 67, 0.15);\n",
              "      fill: #174EA6;\n",
              "    }\n",
              "\n",
              "    [theme=dark] .colab-df-convert {\n",
              "      background-color: #3B4455;\n",
              "      fill: #D2E3FC;\n",
              "    }\n",
              "\n",
              "    [theme=dark] .colab-df-convert:hover {\n",
              "      background-color: #434B5C;\n",
              "      box-shadow: 0px 1px 3px 1px rgba(0, 0, 0, 0.15);\n",
              "      filter: drop-shadow(0px 1px 2px rgba(0, 0, 0, 0.3));\n",
              "      fill: #FFFFFF;\n",
              "    }\n",
              "  </style>\n",
              "\n",
              "      <script>\n",
              "        const buttonEl =\n",
              "          document.querySelector('#df-f5dc7dbf-2166-45f7-87f4-43ce7a4dbb3b button.colab-df-convert');\n",
              "        buttonEl.style.display =\n",
              "          google.colab.kernel.accessAllowed ? 'block' : 'none';\n",
              "\n",
              "        async function convertToInteractive(key) {\n",
              "          const element = document.querySelector('#df-f5dc7dbf-2166-45f7-87f4-43ce7a4dbb3b');\n",
              "          const dataTable =\n",
              "            await google.colab.kernel.invokeFunction('convertToInteractive',\n",
              "                                                     [key], {});\n",
              "          if (!dataTable) return;\n",
              "\n",
              "          const docLinkHtml = 'Like what you see? Visit the ' +\n",
              "            '<a target=\"_blank\" href=https://colab.research.google.com/notebooks/data_table.ipynb>data table notebook</a>'\n",
              "            + ' to learn more about interactive tables.';\n",
              "          element.innerHTML = '';\n",
              "          dataTable['output_type'] = 'display_data';\n",
              "          await google.colab.output.renderOutput(dataTable, element);\n",
              "          const docLink = document.createElement('div');\n",
              "          docLink.innerHTML = docLinkHtml;\n",
              "          element.appendChild(docLink);\n",
              "        }\n",
              "      </script>\n",
              "    </div>\n",
              "  </div>\n",
              "  "
            ]
          },
          "metadata": {},
          "execution_count": 29
        }
      ]
    },
    {
      "cell_type": "code",
      "source": [
        "#Resultados de volatilidades anualizadas para todos los activos\n",
        "stats3={\"std\":sigma, \"Parkinson\":sigmaPark, \"Garman-Klass\":sigmaGK}\n",
        "df3=pd.DataFrame(stats3, index=[\"GE\",\"IBM\", \"MCD\", \"T\"])\n",
        "Vol = pd.concat([df3, ewma], axis=1)\n",
        "Vol"
      ],
      "metadata": {
        "colab": {
          "base_uri": "https://localhost:8080/",
          "height": 175
        },
        "id": "oThVAkXSj62p",
        "outputId": "157e499c-d421-47b7-9c6b-609bb4998cff"
      },
      "execution_count": null,
      "outputs": [
        {
          "output_type": "execute_result",
          "data": {
            "text/plain": [
              "          std  Parkinson  Garman-Klass      EWMA\n",
              "GE   0.301157   0.267589      0.274446  0.365061\n",
              "IBM  0.209703   0.187842      0.191380  0.256371\n",
              "MCD  0.147184   0.147625      0.152538  0.181807\n",
              "T    0.167311   0.167825      0.172823  0.188278"
            ],
            "text/html": [
              "\n",
              "  <div id=\"df-baf2f038-c6ab-4b5f-8c8b-02c15f0c2712\">\n",
              "    <div class=\"colab-df-container\">\n",
              "      <div>\n",
              "<style scoped>\n",
              "    .dataframe tbody tr th:only-of-type {\n",
              "        vertical-align: middle;\n",
              "    }\n",
              "\n",
              "    .dataframe tbody tr th {\n",
              "        vertical-align: top;\n",
              "    }\n",
              "\n",
              "    .dataframe thead th {\n",
              "        text-align: right;\n",
              "    }\n",
              "</style>\n",
              "<table border=\"1\" class=\"dataframe\">\n",
              "  <thead>\n",
              "    <tr style=\"text-align: right;\">\n",
              "      <th></th>\n",
              "      <th>std</th>\n",
              "      <th>Parkinson</th>\n",
              "      <th>Garman-Klass</th>\n",
              "      <th>EWMA</th>\n",
              "    </tr>\n",
              "  </thead>\n",
              "  <tbody>\n",
              "    <tr>\n",
              "      <th>GE</th>\n",
              "      <td>0.301157</td>\n",
              "      <td>0.267589</td>\n",
              "      <td>0.274446</td>\n",
              "      <td>0.365061</td>\n",
              "    </tr>\n",
              "    <tr>\n",
              "      <th>IBM</th>\n",
              "      <td>0.209703</td>\n",
              "      <td>0.187842</td>\n",
              "      <td>0.191380</td>\n",
              "      <td>0.256371</td>\n",
              "    </tr>\n",
              "    <tr>\n",
              "      <th>MCD</th>\n",
              "      <td>0.147184</td>\n",
              "      <td>0.147625</td>\n",
              "      <td>0.152538</td>\n",
              "      <td>0.181807</td>\n",
              "    </tr>\n",
              "    <tr>\n",
              "      <th>T</th>\n",
              "      <td>0.167311</td>\n",
              "      <td>0.167825</td>\n",
              "      <td>0.172823</td>\n",
              "      <td>0.188278</td>\n",
              "    </tr>\n",
              "  </tbody>\n",
              "</table>\n",
              "</div>\n",
              "      <button class=\"colab-df-convert\" onclick=\"convertToInteractive('df-baf2f038-c6ab-4b5f-8c8b-02c15f0c2712')\"\n",
              "              title=\"Convert this dataframe to an interactive table.\"\n",
              "              style=\"display:none;\">\n",
              "        \n",
              "  <svg xmlns=\"http://www.w3.org/2000/svg\" height=\"24px\"viewBox=\"0 0 24 24\"\n",
              "       width=\"24px\">\n",
              "    <path d=\"M0 0h24v24H0V0z\" fill=\"none\"/>\n",
              "    <path d=\"M18.56 5.44l.94 2.06.94-2.06 2.06-.94-2.06-.94-.94-2.06-.94 2.06-2.06.94zm-11 1L8.5 8.5l.94-2.06 2.06-.94-2.06-.94L8.5 2.5l-.94 2.06-2.06.94zm10 10l.94 2.06.94-2.06 2.06-.94-2.06-.94-.94-2.06-.94 2.06-2.06.94z\"/><path d=\"M17.41 7.96l-1.37-1.37c-.4-.4-.92-.59-1.43-.59-.52 0-1.04.2-1.43.59L10.3 9.45l-7.72 7.72c-.78.78-.78 2.05 0 2.83L4 21.41c.39.39.9.59 1.41.59.51 0 1.02-.2 1.41-.59l7.78-7.78 2.81-2.81c.8-.78.8-2.07 0-2.86zM5.41 20L4 18.59l7.72-7.72 1.47 1.35L5.41 20z\"/>\n",
              "  </svg>\n",
              "      </button>\n",
              "      \n",
              "  <style>\n",
              "    .colab-df-container {\n",
              "      display:flex;\n",
              "      flex-wrap:wrap;\n",
              "      gap: 12px;\n",
              "    }\n",
              "\n",
              "    .colab-df-convert {\n",
              "      background-color: #E8F0FE;\n",
              "      border: none;\n",
              "      border-radius: 50%;\n",
              "      cursor: pointer;\n",
              "      display: none;\n",
              "      fill: #1967D2;\n",
              "      height: 32px;\n",
              "      padding: 0 0 0 0;\n",
              "      width: 32px;\n",
              "    }\n",
              "\n",
              "    .colab-df-convert:hover {\n",
              "      background-color: #E2EBFA;\n",
              "      box-shadow: 0px 1px 2px rgba(60, 64, 67, 0.3), 0px 1px 3px 1px rgba(60, 64, 67, 0.15);\n",
              "      fill: #174EA6;\n",
              "    }\n",
              "\n",
              "    [theme=dark] .colab-df-convert {\n",
              "      background-color: #3B4455;\n",
              "      fill: #D2E3FC;\n",
              "    }\n",
              "\n",
              "    [theme=dark] .colab-df-convert:hover {\n",
              "      background-color: #434B5C;\n",
              "      box-shadow: 0px 1px 3px 1px rgba(0, 0, 0, 0.15);\n",
              "      filter: drop-shadow(0px 1px 2px rgba(0, 0, 0, 0.3));\n",
              "      fill: #FFFFFF;\n",
              "    }\n",
              "  </style>\n",
              "\n",
              "      <script>\n",
              "        const buttonEl =\n",
              "          document.querySelector('#df-baf2f038-c6ab-4b5f-8c8b-02c15f0c2712 button.colab-df-convert');\n",
              "        buttonEl.style.display =\n",
              "          google.colab.kernel.accessAllowed ? 'block' : 'none';\n",
              "\n",
              "        async function convertToInteractive(key) {\n",
              "          const element = document.querySelector('#df-baf2f038-c6ab-4b5f-8c8b-02c15f0c2712');\n",
              "          const dataTable =\n",
              "            await google.colab.kernel.invokeFunction('convertToInteractive',\n",
              "                                                     [key], {});\n",
              "          if (!dataTable) return;\n",
              "\n",
              "          const docLinkHtml = 'Like what you see? Visit the ' +\n",
              "            '<a target=\"_blank\" href=https://colab.research.google.com/notebooks/data_table.ipynb>data table notebook</a>'\n",
              "            + ' to learn more about interactive tables.';\n",
              "          element.innerHTML = '';\n",
              "          dataTable['output_type'] = 'display_data';\n",
              "          await google.colab.output.renderOutput(dataTable, element);\n",
              "          const docLink = document.createElement('div');\n",
              "          docLink.innerHTML = docLinkHtml;\n",
              "          element.appendChild(docLink);\n",
              "        }\n",
              "      </script>\n",
              "    </div>\n",
              "  </div>\n",
              "  "
            ]
          },
          "metadata": {},
          "execution_count": 32
        }
      ]
    },
    {
      "cell_type": "markdown",
      "source": [
        "Con las diferentes medidas de volatilidad, se observa que, para todos los caso, General Electric es el activo con la mayor volatilidad.\n",
        "Como en los calculos anteriores, observamos que McDonalds presenta las menores volatilidades, y AT&T también tiene volatilidades bajas."
      ],
      "metadata": {
        "id": "GwhGc5mPgT9c"
      }
    },
    {
      "cell_type": "code",
      "source": [
        "#2b. Gráfica de volatilidad de parkinson para GE\n",
        "sigmaPark_m[\"GE\"].plot();"
      ],
      "metadata": {
        "colab": {
          "base_uri": "https://localhost:8080/",
          "height": 279
        },
        "id": "B5GNWlzJrV95",
        "outputId": "72ae7435-24bb-46ff-ec05-48a242c269ee"
      },
      "execution_count": null,
      "outputs": [
        {
          "output_type": "display_data",
          "data": {
            "text/plain": [
              "<Figure size 432x288 with 1 Axes>"
            ],
            "image/png": "[encoded data removed]"
          },
          "metadata": {
            "needs_background": "light"
          }
        }
      ]
    },
    {
      "cell_type": "code",
      "source": [
        "#2b. Gráfica de volatilidad de Garman-Klass para GE\n",
        "sigmaGK_m[\"GE\"].plot();"
      ],
      "metadata": {
        "colab": {
          "base_uri": "https://localhost:8080/",
          "height": 279
        },
        "id": "lMYkhrPVrVil",
        "outputId": "feb336de-c940-4d6e-b726-d127818f6da3"
      },
      "execution_count": null,
      "outputs": [
        {
          "output_type": "display_data",
          "data": {
            "text/plain": [
              "<Figure size 432x288 with 1 Axes>"
            ],
            "image/png": "[encoded data removed]"
          },
          "metadata": {
            "needs_background": "light"
          }
        }
      ]
    },
    {
      "cell_type": "code",
      "source": [
        "#2b. Gráfica de EWMA  Para GE\n",
        "varewma = ((np.power(ret[\"GE\"],2)*(np.power(np.repeat(Lambda,len(ret[\"GE\"])),np.arange(len(ret[\"GE\"])-1,-1,-1)))))*(1-0.94)\n",
        "varewma.plot();"
      ],
      "metadata": {
        "colab": {
          "base_uri": "https://localhost:8080/",
          "height": 279
        },
        "id": "uzDIxgndjfRu",
        "outputId": "7acf0a11-fea7-44ba-f2e2-25b3e3c7063d"
      },
      "execution_count": null,
      "outputs": [
        {
          "output_type": "display_data",
          "data": {
            "text/plain": [
              "<Figure size 432x288 with 1 Axes>"
            ],
            "image/png": "[encoded data removed]"
          },
          "metadata": {
            "needs_background": "light"
          }
        }
      ]
    },
    {
      "cell_type": "markdown",
      "source": [
        "Se eligió General Electric debido a que es el activo que presenta las mayores volatilidades. Gracias a la última nos damos cuenta que GE empezó a tener volatiloidades más altas desde, aproximadamente, finales de 2018.\n",
        "En este año, GE tuvo pérdidas equivalentes a más del doble con respecto al año anterior, 22,802 millones para ser más exactos. Por otro lado, empezó una reestructuración de su negocio, por lo que no es de extrañar las altas volatilidades que presenta. Para este periodo, tuvo unas pérdidas por acción de 2,62 dólares y, por si fuera poco, llegó a un acuerdo con la justicia estadounidense, que investigaba una posible violación asociada al extinto negocio de hipotécas de GE.\n",
        "\n",
        "Por otro lado, John Flannery, el antiguo máximo directivo de GE, que había estado en el cargo por 16 años, dimitió a mitad de 2018 y fue sustituido por H. Lawrence Culp Jr. Con este cambio en la gerencia también se puede explicar las altas volatilidades de la compañía.\n",
        "\n",
        "-\n",
        "\n",
        "- La vanguardia (2019). General Electric perdió 22.802 millones en 2018, frente a los 8.929 de 2017. *La Vanguardia*"
      ],
      "metadata": {
        "id": "RRSKHcPpiDV1"
      }
    }
  ]
}