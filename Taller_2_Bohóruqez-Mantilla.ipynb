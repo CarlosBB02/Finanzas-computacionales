{
  "nbformat": 4,
  "nbformat_minor": 0,
  "metadata": {
    "colab": {
      "provenance": [],
      "collapsed_sections": []
    },
    "kernelspec": {
      "name": "python3",
      "display_name": "Python 3"
    },
    "language_info": {
      "name": "python"
    }
  },
  "cells": [
    {
      "cell_type": "markdown",
      "source": [
        "Realizado por Carlos Bohórquez y Mariangel Mantilla"
      ],
      "metadata": {
        "id": "_kUIS-Q4GRlW"
      }
    },
    {
      "cell_type": "code",
      "execution_count": null,
      "metadata": {
        "id": "B2ghBlF56ysR",
        "colab": {
          "base_uri": "https://localhost:8080/"
        },
        "outputId": "131c5fe2-2069-4f4a-fdd0-1855df7070aa"
      },
      "outputs": [
        {
          "output_type": "stream",
          "name": "stdout",
          "text": [
            "Looking in indexes: https://pypi.org/simple, https://us-python.pkg.dev/colab-wheels/public/simple/\n",
            "Collecting yfinance\n",
            "  Downloading yfinance-0.1.74-py2.py3-none-any.whl (27 kB)\n",
            "Requirement already satisfied: numpy>=1.15 in /usr/local/lib/python3.7/dist-packages (from yfinance) (1.21.6)\n",
            "Collecting requests>=2.26\n",
            "  Downloading requests-2.28.1-py3-none-any.whl (62 kB)\n",
            "\u001b[K     |████████████████████████████████| 62 kB 1.1 MB/s \n",
            "\u001b[?25hRequirement already satisfied: pandas>=0.24.0 in /usr/local/lib/python3.7/dist-packages (from yfinance) (1.3.5)\n",
            "Requirement already satisfied: lxml>=4.5.1 in /usr/local/lib/python3.7/dist-packages (from yfinance) (4.9.1)\n",
            "Requirement already satisfied: multitasking>=0.0.7 in /usr/local/lib/python3.7/dist-packages (from yfinance) (0.0.11)\n",
            "Requirement already satisfied: pytz>=2017.3 in /usr/local/lib/python3.7/dist-packages (from pandas>=0.24.0->yfinance) (2022.2.1)\n",
            "Requirement already satisfied: python-dateutil>=2.7.3 in /usr/local/lib/python3.7/dist-packages (from pandas>=0.24.0->yfinance) (2.8.2)\n",
            "Requirement already satisfied: six>=1.5 in /usr/local/lib/python3.7/dist-packages (from python-dateutil>=2.7.3->pandas>=0.24.0->yfinance) (1.15.0)\n",
            "Requirement already satisfied: idna<4,>=2.5 in /usr/local/lib/python3.7/dist-packages (from requests>=2.26->yfinance) (2.10)\n",
            "Requirement already satisfied: charset-normalizer<3,>=2 in /usr/local/lib/python3.7/dist-packages (from requests>=2.26->yfinance) (2.1.1)\n",
            "Requirement already satisfied: urllib3<1.27,>=1.21.1 in /usr/local/lib/python3.7/dist-packages (from requests>=2.26->yfinance) (1.24.3)\n",
            "Requirement already satisfied: certifi>=2017.4.17 in /usr/local/lib/python3.7/dist-packages (from requests>=2.26->yfinance) (2022.6.15)\n",
            "Installing collected packages: requests, yfinance\n",
            "  Attempting uninstall: requests\n",
            "    Found existing installation: requests 2.23.0\n",
            "    Uninstalling requests-2.23.0:\n",
            "      Successfully uninstalled requests-2.23.0\n",
            "Successfully installed requests-2.28.1 yfinance-0.1.74\n"
          ]
        }
      ],
      "source": [
        "import numpy as np\n",
        "import pandas as pd\n",
        "import matplotlib.pyplot as plt\n",
        "from scipy.optimize import minimize\n",
        "from scipy.optimize import linprog\n",
        "import cvxopt as cvx\n",
        "import cvxpy as cp\n",
        "from sklearn.linear_model import LinearRegression\n",
        "from scipy import stats\n",
        "!pip install yfinance\n",
        "import yfinance as yf"
      ]
    },
    {
      "cell_type": "markdown",
      "source": [
        "Punto 1"
      ],
      "metadata": {
        "id": "vNPjZjVJ7Z0T"
      }
    },
    {
      "cell_type": "markdown",
      "source": [
        "$$ \\max_{\\{ x_1,x_2 \\} } 2 x_1 - x_2 $$\n",
        "$$  x_1 + x_2 \\geq 1 $$\n",
        "$$ x_1 - x_2 \\leq 0 $$\n",
        "$$ 3 x_1 + x_2 \\leq 6 $$\n",
        "$$ x_1,\\ x_2 \\geq 0 $$"
      ],
      "metadata": {
        "id": "ONJK-7BL-W_V"
      }
    },
    {
      "cell_type": "code",
      "source": [
        "from matplotlib.patches import Polygon\n",
        "fig, ax = plt.subplots(figsize=(8, 6))\n",
        "ax.grid()\n",
        "\n",
        "# Draw constraint lines\n",
        "ax.hlines(0, -1, 4)\n",
        "ax.vlines(0, -1, 7)\n",
        "ax.plot(np.linspace(-0.5, 1.5, 100), 1-1*np.linspace(-0.5, 1.5, 100), color=\"c\")\n",
        "ax.plot(np.linspace(-0.5, 2.5, 100), 6-3*np.linspace(-0.5, 2.5, 100), color=\"c\")\n",
        "ax.plot(np.linspace(-0.5, 2, 100), 0+1*np.linspace(-0.5, 2, 100), color=\"c\")\n",
        "ax.text(0.1, 1, \"$x_1 + x_2 \\geq 1$\", size=12)\n",
        "ax.text(1.5, 2, \"$3 x_1 + x_2 \\leq 6$\", size=12)\n",
        "ax.text(-0.5, -0.8, \"$x_1 - x_2 \\leq 0$\", size=12)\n",
        "ax.text(-0.5, 3, \"$x_2 \\geq 0$\", size=12)\n",
        "ax.text(1.5, -0.5, \"$x_1 \\geq 0$\", size=12)\n",
        "\n",
        "# Draw the feasible region\n",
        "feasible_set = Polygon(np.array([[0.5, 0.5], \n",
        "                                 [1.5, 1.5], \n",
        "                                 [2, 0], \n",
        "                                 [1, 0]]), \n",
        "                       color=\"pink\")\n",
        "ax.add_patch(feasible_set)\n",
        "\n",
        "#Solución óptima\n",
        "ax.plot(1.5, 1.5, \"*\", color=\"brown\")\n",
        "ax.text(1.6, 1.3, \"Optimal Solution\", size=10);"
      ],
      "metadata": {
        "colab": {
          "base_uri": "https://localhost:8080/",
          "height": 374
        },
        "id": "gLk-Svt27Yk-",
        "outputId": "22dd3aa7-20c7-4953-aec4-15b2f1fc53f7"
      },
      "execution_count": null,
      "outputs": [
        {
          "output_type": "display_data",
          "data": {
            "text/plain": [
              "<Figure size 576x432 with 1 Axes>"
            ],
            "image/png": "[encoded data removed]"
          },
          "metadata": {
            "needs_background": "light"
          }
        }
      ]
    },
    {
      "cell_type": "markdown",
      "source": [
        "Interpretación:\n",
        "\n",
        "\n",
        "Para este punto tenemos un problema de programación lineal donde el principal objetivo es maximizar el valor de las dos variables X y X2 a traves de buscar el valor optimo de la funcion. Para esto desarrollamos la grafica anterior donde se establecen las restricciones que abarca el espacio de color rojo, en el cual se establece la region factible en el desarrollo del problema, donde tanto X y X2 alcanzaron valores maximos de 1,5. Siendo este el punto mas alto de la figura que representa la solucion más optima.\n",
        "\n"
      ],
      "metadata": {
        "id": "dJKfmOCahCI2"
      }
    },
    {
      "cell_type": "markdown",
      "source": [
        "Punto 2"
      ],
      "metadata": {
        "id": "2FTnCP7EGXh_"
      }
    },
    {
      "cell_type": "code",
      "source": [
        "#Con linprog\n",
        "c = np.array([0.1,0.15,0.16,0.08]) #R esperado\n",
        "A = np.array([[1,1,1,1]])\n",
        "b = np.array([80])\n",
        "\n",
        "D = np.array([[0.5,0.3,0.25,0.6],\n",
        "              [0.3,0.1,0.4,0.2],\n",
        "              [0.2,0.6,0.35,0.2]])\n",
        "d = np.array([28,24,12])\n",
        "\n",
        "resultado = linprog(-c,A_ub=-D,b_ub=-d,A_eq=A,b_eq=b, method='simplex')\n",
        "resultado\n",
        "#x.value"
      ],
      "metadata": {
        "colab": {
          "base_uri": "https://localhost:8080/"
        },
        "id": "NyRkksv4GCPQ",
        "outputId": "71f08c6b-46a6-4b13-9fca-d6cf9e6c79b8"
      },
      "execution_count": null,
      "outputs": [
        {
          "output_type": "execute_result",
          "data": {
            "text/plain": [
              "     con: array([0.])\n",
              "     fun: -10.989473684210527\n",
              " message: 'Optimization terminated successfully.'\n",
              "     nit: 7\n",
              "   slack: array([-3.55271368e-15, -3.55271368e-15,  1.60000000e+01])\n",
              "  status: 0\n",
              " success: True\n",
              "       x: array([ 0.        , 12.63157895, 46.31578947, 21.05263158])"
            ]
          },
          "metadata": {},
          "execution_count": 3
        }
      ]
    },
    {
      "cell_type": "code",
      "source": [
        "# Con cvxpy.\n",
        "n = 4 #4 variables\n",
        "x = cp.Variable(n)\n",
        "c = np.array([0.1,0.15,0.16,0.08])\n",
        "A = np.array([[1,1,1,1]]) #4 1s porque son 4 fondos\n",
        "b = np.array([80])\n",
        "\n",
        "D = np.array([[0.5,0.3,0.25,0.6],\n",
        "              [0.3,0.1,0.4,0.2],\n",
        "              [0.2,0.6,0.35,0.2]])\n",
        "d = np.array([28,24,12])\n",
        "\n",
        "objective = cp.Maximize(c.T @ x ) #El @ es para multiplicar matrices \n",
        "constraints = [D @ x >= d, A @ x  == b,  x>=0]#<> es de la funcion de desigualdad original \n",
        "prob = cp.Problem(objective, constraints)\n",
        "\n",
        "#El objetivo optimo \n",
        "result = prob.solve()\n",
        "# La solucion optima \n",
        "sol=round(pd.DataFrame(x.value),4)\n",
        "sol"
      ],
      "metadata": {
        "colab": {
          "base_uri": "https://localhost:8080/",
          "height": 173
        },
        "id": "LPRjyDEW7Wub",
        "outputId": "13fde820-8748-41aa-90bb-ff646a0d6de7"
      },
      "execution_count": null,
      "outputs": [
        {
          "output_type": "execute_result",
          "data": {
            "text/plain": [
              "         0\n",
              "0   0.0000\n",
              "1  12.6316\n",
              "2  46.3158\n",
              "3  21.0526"
            ],
            "text/html": [
              "\n",
              "  <div id=\"df-5d026410-2fac-4158-87fa-4d5009a41bf2\">\n",
              "    <div class=\"colab-df-container\">\n",
              "      <div>\n",
              "<style scoped>\n",
              "    .dataframe tbody tr th:only-of-type {\n",
              "        vertical-align: middle;\n",
              "    }\n",
              "\n",
              "    .dataframe tbody tr th {\n",
              "        vertical-align: top;\n",
              "    }\n",
              "\n",
              "    .dataframe thead th {\n",
              "        text-align: right;\n",
              "    }\n",
              "</style>\n",
              "<table border=\"1\" class=\"dataframe\">\n",
              "  <thead>\n",
              "    <tr style=\"text-align: right;\">\n",
              "      <th></th>\n",
              "      <th>0</th>\n",
              "    </tr>\n",
              "  </thead>\n",
              "  <tbody>\n",
              "    <tr>\n",
              "      <th>0</th>\n",
              "      <td>0.0000</td>\n",
              "    </tr>\n",
              "    <tr>\n",
              "      <th>1</th>\n",
              "      <td>12.6316</td>\n",
              "    </tr>\n",
              "    <tr>\n",
              "      <th>2</th>\n",
              "      <td>46.3158</td>\n",
              "    </tr>\n",
              "    <tr>\n",
              "      <th>3</th>\n",
              "      <td>21.0526</td>\n",
              "    </tr>\n",
              "  </tbody>\n",
              "</table>\n",
              "</div>\n",
              "      <button class=\"colab-df-convert\" onclick=\"convertToInteractive('df-5d026410-2fac-4158-87fa-4d5009a41bf2')\"\n",
              "              title=\"Convert this dataframe to an interactive table.\"\n",
              "              style=\"display:none;\">\n",
              "        \n",
              "  <svg xmlns=\"http://www.w3.org/2000/svg\" height=\"24px\"viewBox=\"0 0 24 24\"\n",
              "       width=\"24px\">\n",
              "    <path d=\"M0 0h24v24H0V0z\" fill=\"none\"/>\n",
              "    <path d=\"M18.56 5.44l.94 2.06.94-2.06 2.06-.94-2.06-.94-.94-2.06-.94 2.06-2.06.94zm-11 1L8.5 8.5l.94-2.06 2.06-.94-2.06-.94L8.5 2.5l-.94 2.06-2.06.94zm10 10l.94 2.06.94-2.06 2.06-.94-2.06-.94-.94-2.06-.94 2.06-2.06.94z\"/><path d=\"M17.41 7.96l-1.37-1.37c-.4-.4-.92-.59-1.43-.59-.52 0-1.04.2-1.43.59L10.3 9.45l-7.72 7.72c-.78.78-.78 2.05 0 2.83L4 21.41c.39.39.9.59 1.41.59.51 0 1.02-.2 1.41-.59l7.78-7.78 2.81-2.81c.8-.78.8-2.07 0-2.86zM5.41 20L4 18.59l7.72-7.72 1.47 1.35L5.41 20z\"/>\n",
              "  </svg>\n",
              "      </button>\n",
              "      \n",
              "  <style>\n",
              "    .colab-df-container {\n",
              "      display:flex;\n",
              "      flex-wrap:wrap;\n",
              "      gap: 12px;\n",
              "    }\n",
              "\n",
              "    .colab-df-convert {\n",
              "      background-color: #E8F0FE;\n",
              "      border: none;\n",
              "      border-radius: 50%;\n",
              "      cursor: pointer;\n",
              "      display: none;\n",
              "      fill: #1967D2;\n",
              "      height: 32px;\n",
              "      padding: 0 0 0 0;\n",
              "      width: 32px;\n",
              "    }\n",
              "\n",
              "    .colab-df-convert:hover {\n",
              "      background-color: #E2EBFA;\n",
              "      box-shadow: 0px 1px 2px rgba(60, 64, 67, 0.3), 0px 1px 3px 1px rgba(60, 64, 67, 0.15);\n",
              "      fill: #174EA6;\n",
              "    }\n",
              "\n",
              "    [theme=dark] .colab-df-convert {\n",
              "      background-color: #3B4455;\n",
              "      fill: #D2E3FC;\n",
              "    }\n",
              "\n",
              "    [theme=dark] .colab-df-convert:hover {\n",
              "      background-color: #434B5C;\n",
              "      box-shadow: 0px 1px 3px 1px rgba(0, 0, 0, 0.15);\n",
              "      filter: drop-shadow(0px 1px 2px rgba(0, 0, 0, 0.3));\n",
              "      fill: #FFFFFF;\n",
              "    }\n",
              "  </style>\n",
              "\n",
              "      <script>\n",
              "        const buttonEl =\n",
              "          document.querySelector('#df-5d026410-2fac-4158-87fa-4d5009a41bf2 button.colab-df-convert');\n",
              "        buttonEl.style.display =\n",
              "          google.colab.kernel.accessAllowed ? 'block' : 'none';\n",
              "\n",
              "        async function convertToInteractive(key) {\n",
              "          const element = document.querySelector('#df-5d026410-2fac-4158-87fa-4d5009a41bf2');\n",
              "          const dataTable =\n",
              "            await google.colab.kernel.invokeFunction('convertToInteractive',\n",
              "                                                     [key], {});\n",
              "          if (!dataTable) return;\n",
              "\n",
              "          const docLinkHtml = 'Like what you see? Visit the ' +\n",
              "            '<a target=\"_blank\" href=https://colab.research.google.com/notebooks/data_table.ipynb>data table notebook</a>'\n",
              "            + ' to learn more about interactive tables.';\n",
              "          element.innerHTML = '';\n",
              "          dataTable['output_type'] = 'display_data';\n",
              "          await google.colab.output.renderOutput(dataTable, element);\n",
              "          const docLink = document.createElement('div');\n",
              "          docLink.innerHTML = docLinkHtml;\n",
              "          element.appendChild(docLink);\n",
              "        }\n",
              "      </script>\n",
              "    </div>\n",
              "  </div>\n",
              "  "
            ]
          },
          "metadata": {},
          "execution_count": 4
        }
      ]
    },
    {
      "cell_type": "markdown",
      "source": [
        "Interpretación:\n",
        "\n",
        "Ahora bien, para resolver este problema se busca seleccionar la mejor opción de inversion, donde se pretende maximizar la rentabilidad con respecto a la restriccion presupuestaria de 80 millones abarcando inversiones minimas en diferentes fondos. Con lo anterior, podemos ver que en el desarrollo del problema para maximizar la inverson los fondos tienen la siguiente asignación: para el primer fondo se le asigno una inversion de 0, el segundo fondo se le asigno una cantidad de 12,63 millones, ademas para el tercer fondo se le asigno 46,31 millones y por ultimo, para el cuarto fondo se le asigno una inversion de 21.05 millones. Es asi como se obtiene 10,98 millones de ganancia en maximización.\n",
        "\n"
      ],
      "metadata": {
        "id": "9jpqRflKlMIk"
      }
    },
    {
      "cell_type": "markdown",
      "source": [
        "Punto 3"
      ],
      "metadata": {
        "id": "lKe7igAw9fOQ"
      }
    },
    {
      "cell_type": "code",
      "source": [
        "#Construcción de vectores\n",
        "b = np.array([150, 100, -200, 200, -50, -300])\n",
        "c = np.array([0,0,0,0,0,0,0,0,0,0,0,0,0,1]) #Función objetivo\n",
        "rx = np.array([1.01])  #tasa del crédito\n",
        "ry = np.array([1.02]) #Tasa del bono\n",
        "rz = np.array([1.003]) #Tasa excedente\n",
        "A = np.array([[1,0,0,0,0, 1,0,0, -1,0,0,0,0,0],\n",
        "              [-rx,1,0,0,0, 0,1,0, rz,-1,0,0,0,0],\n",
        "              [0,-rx,1,0,0, 0,0,1, 0,rz,-1,0,0,0],\n",
        "              [0,0,-rx,1,0, -ry,0,0, 0,0,rz,-1,0,0],\n",
        "              [0,0,0,-rx,1, 0,-ry,0, 0,0,0,rz,-1,0],\n",
        "              [0,0,0,0,-rx, 0,0,-ry, 0,0,0,0,rz,-1]])\n",
        "\n",
        "#Solución con cvxpy\n",
        "n = len(c) # # de elementos que requiere el vector c\n",
        "x = cp.Variable(n) #Mismo tamaño de c porque se debe operar x con c\n",
        "\n",
        "objective = cp.Maximize(c.T @ x )\n",
        "constraints = [A @ x == b, x>=0]\n",
        "prob = cp.Problem(objective, constraints)\n",
        "\n",
        "# The optimal objective value is returned by `prob.solve()`.\n",
        "result = prob.solve()\n",
        "# The optimal value for x is stored in `x.value`.\n",
        "sol = round(pd.DataFrame(x.value),4)\n",
        "sol"
      ],
      "metadata": {
        "id": "Ehc40du39etd",
        "colab": {
          "base_uri": "https://localhost:8080/",
          "height": 537
        },
        "outputId": "5890d4eb-6122-400d-9c23-51d6a9fadfca"
      },
      "execution_count": null,
      "outputs": [
        {
          "output_type": "stream",
          "name": "stderr",
          "text": [
            "/usr/local/lib/python3.7/dist-packages/ipykernel_launcher.py:12: VisibleDeprecationWarning: Creating an ndarray from ragged nested sequences (which is a list-or-tuple of lists-or-tuples-or ndarrays with different lengths or shapes) is deprecated. If you meant to do this, you must specify 'dtype=object' when creating the ndarray.\n",
            "  if sys.path[0] == '':\n"
          ]
        },
        {
          "output_type": "execute_result",
          "data": {
            "text/plain": [
              "           0\n",
              "0     0.0000\n",
              "1    42.6867\n",
              "2     0.0000\n",
              "3     0.0000\n",
              "4     8.4595\n",
              "5   150.0000\n",
              "6    57.3133\n",
              "7   195.0578\n",
              "8     0.0000\n",
              "9     0.0000\n",
              "10  351.9442\n",
              "11    0.0000\n",
              "12    0.0000\n",
              "13   92.4969"
            ],
            "text/html": [
              "\n",
              "  <div id=\"df-1b0e1822-1cc9-4274-84bf-eeb1d8aa419e\">\n",
              "    <div class=\"colab-df-container\">\n",
              "      <div>\n",
              "<style scoped>\n",
              "    .dataframe tbody tr th:only-of-type {\n",
              "        vertical-align: middle;\n",
              "    }\n",
              "\n",
              "    .dataframe tbody tr th {\n",
              "        vertical-align: top;\n",
              "    }\n",
              "\n",
              "    .dataframe thead th {\n",
              "        text-align: right;\n",
              "    }\n",
              "</style>\n",
              "<table border=\"1\" class=\"dataframe\">\n",
              "  <thead>\n",
              "    <tr style=\"text-align: right;\">\n",
              "      <th></th>\n",
              "      <th>0</th>\n",
              "    </tr>\n",
              "  </thead>\n",
              "  <tbody>\n",
              "    <tr>\n",
              "      <th>0</th>\n",
              "      <td>0.0000</td>\n",
              "    </tr>\n",
              "    <tr>\n",
              "      <th>1</th>\n",
              "      <td>42.6867</td>\n",
              "    </tr>\n",
              "    <tr>\n",
              "      <th>2</th>\n",
              "      <td>0.0000</td>\n",
              "    </tr>\n",
              "    <tr>\n",
              "      <th>3</th>\n",
              "      <td>0.0000</td>\n",
              "    </tr>\n",
              "    <tr>\n",
              "      <th>4</th>\n",
              "      <td>8.4595</td>\n",
              "    </tr>\n",
              "    <tr>\n",
              "      <th>5</th>\n",
              "      <td>150.0000</td>\n",
              "    </tr>\n",
              "    <tr>\n",
              "      <th>6</th>\n",
              "      <td>57.3133</td>\n",
              "    </tr>\n",
              "    <tr>\n",
              "      <th>7</th>\n",
              "      <td>195.0578</td>\n",
              "    </tr>\n",
              "    <tr>\n",
              "      <th>8</th>\n",
              "      <td>0.0000</td>\n",
              "    </tr>\n",
              "    <tr>\n",
              "      <th>9</th>\n",
              "      <td>0.0000</td>\n",
              "    </tr>\n",
              "    <tr>\n",
              "      <th>10</th>\n",
              "      <td>351.9442</td>\n",
              "    </tr>\n",
              "    <tr>\n",
              "      <th>11</th>\n",
              "      <td>0.0000</td>\n",
              "    </tr>\n",
              "    <tr>\n",
              "      <th>12</th>\n",
              "      <td>0.0000</td>\n",
              "    </tr>\n",
              "    <tr>\n",
              "      <th>13</th>\n",
              "      <td>92.4969</td>\n",
              "    </tr>\n",
              "  </tbody>\n",
              "</table>\n",
              "</div>\n",
              "      <button class=\"colab-df-convert\" onclick=\"convertToInteractive('df-1b0e1822-1cc9-4274-84bf-eeb1d8aa419e')\"\n",
              "              title=\"Convert this dataframe to an interactive table.\"\n",
              "              style=\"display:none;\">\n",
              "        \n",
              "  <svg xmlns=\"http://www.w3.org/2000/svg\" height=\"24px\"viewBox=\"0 0 24 24\"\n",
              "       width=\"24px\">\n",
              "    <path d=\"M0 0h24v24H0V0z\" fill=\"none\"/>\n",
              "    <path d=\"M18.56 5.44l.94 2.06.94-2.06 2.06-.94-2.06-.94-.94-2.06-.94 2.06-2.06.94zm-11 1L8.5 8.5l.94-2.06 2.06-.94-2.06-.94L8.5 2.5l-.94 2.06-2.06.94zm10 10l.94 2.06.94-2.06 2.06-.94-2.06-.94-.94-2.06-.94 2.06-2.06.94z\"/><path d=\"M17.41 7.96l-1.37-1.37c-.4-.4-.92-.59-1.43-.59-.52 0-1.04.2-1.43.59L10.3 9.45l-7.72 7.72c-.78.78-.78 2.05 0 2.83L4 21.41c.39.39.9.59 1.41.59.51 0 1.02-.2 1.41-.59l7.78-7.78 2.81-2.81c.8-.78.8-2.07 0-2.86zM5.41 20L4 18.59l7.72-7.72 1.47 1.35L5.41 20z\"/>\n",
              "  </svg>\n",
              "      </button>\n",
              "      \n",
              "  <style>\n",
              "    .colab-df-container {\n",
              "      display:flex;\n",
              "      flex-wrap:wrap;\n",
              "      gap: 12px;\n",
              "    }\n",
              "\n",
              "    .colab-df-convert {\n",
              "      background-color: #E8F0FE;\n",
              "      border: none;\n",
              "      border-radius: 50%;\n",
              "      cursor: pointer;\n",
              "      display: none;\n",
              "      fill: #1967D2;\n",
              "      height: 32px;\n",
              "      padding: 0 0 0 0;\n",
              "      width: 32px;\n",
              "    }\n",
              "\n",
              "    .colab-df-convert:hover {\n",
              "      background-color: #E2EBFA;\n",
              "      box-shadow: 0px 1px 2px rgba(60, 64, 67, 0.3), 0px 1px 3px 1px rgba(60, 64, 67, 0.15);\n",
              "      fill: #174EA6;\n",
              "    }\n",
              "\n",
              "    [theme=dark] .colab-df-convert {\n",
              "      background-color: #3B4455;\n",
              "      fill: #D2E3FC;\n",
              "    }\n",
              "\n",
              "    [theme=dark] .colab-df-convert:hover {\n",
              "      background-color: #434B5C;\n",
              "      box-shadow: 0px 1px 3px 1px rgba(0, 0, 0, 0.15);\n",
              "      filter: drop-shadow(0px 1px 2px rgba(0, 0, 0, 0.3));\n",
              "      fill: #FFFFFF;\n",
              "    }\n",
              "  </style>\n",
              "\n",
              "      <script>\n",
              "        const buttonEl =\n",
              "          document.querySelector('#df-1b0e1822-1cc9-4274-84bf-eeb1d8aa419e button.colab-df-convert');\n",
              "        buttonEl.style.display =\n",
              "          google.colab.kernel.accessAllowed ? 'block' : 'none';\n",
              "\n",
              "        async function convertToInteractive(key) {\n",
              "          const element = document.querySelector('#df-1b0e1822-1cc9-4274-84bf-eeb1d8aa419e');\n",
              "          const dataTable =\n",
              "            await google.colab.kernel.invokeFunction('convertToInteractive',\n",
              "                                                     [key], {});\n",
              "          if (!dataTable) return;\n",
              "\n",
              "          const docLinkHtml = 'Like what you see? Visit the ' +\n",
              "            '<a target=\"_blank\" href=https://colab.research.google.com/notebooks/data_table.ipynb>data table notebook</a>'\n",
              "            + ' to learn more about interactive tables.';\n",
              "          element.innerHTML = '';\n",
              "          dataTable['output_type'] = 'display_data';\n",
              "          await google.colab.output.renderOutput(dataTable, element);\n",
              "          const docLink = document.createElement('div');\n",
              "          docLink.innerHTML = docLinkHtml;\n",
              "          element.appendChild(docLink);\n",
              "        }\n",
              "      </script>\n",
              "    </div>\n",
              "  </div>\n",
              "  "
            ]
          },
          "metadata": {},
          "execution_count": 5
        }
      ]
    },
    {
      "cell_type": "code",
      "source": [
        "#Solución con linprog\n",
        "resultado = linprog(-c,A_eq=A,b_eq=b, method=\"simplex\")\n",
        "resultado"
      ],
      "metadata": {
        "id": "-5CoFN_79emf",
        "colab": {
          "base_uri": "https://localhost:8080/"
        },
        "outputId": "6d63e992-705a-4322-995e-df99252d4f5a"
      },
      "execution_count": null,
      "outputs": [
        {
          "output_type": "execute_result",
          "data": {
            "text/plain": [
              "     con: array([ 0.00000000e+00,  1.42108547e-14, -2.84217094e-14,  0.00000000e+00,\n",
              "        0.00000000e+00,  0.00000000e+00])\n",
              "     fun: -92.4969491525423\n",
              " message: 'Optimization terminated successfully.'\n",
              "     nit: 7\n",
              "   slack: array([], dtype=float64)\n",
              "  status: 0\n",
              " success: True\n",
              "       x: array([  0.        ,  50.98039216,   0.        ,   0.        ,\n",
              "         0.        , 150.        ,  49.01960784, 203.43436358,\n",
              "         0.        ,   0.        , 351.9441675 ,   0.        ,\n",
              "         0.        ,  92.49694915])"
            ]
          },
          "metadata": {},
          "execution_count": 6
        }
      ]
    },
    {
      "cell_type": "markdown",
      "source": [
        "Interpretación:  \n",
        "Se maximiza el exceso de fondos en el mes 6, que para este caso es equivalente a 92,4969.  \n",
        "Se utilizaron 2 optimizadores diferentes y, a pesar de tener resultados ligeramente diferentes, ambos resultados son óptimos, y la diferencia en respuestas se debe al optimizador utilizado.  \n",
        "Además, se observa que el resultado final es el mismo en ambos casos."
      ],
      "metadata": {
        "id": "XzaK14lEwPsQ"
      }
    },
    {
      "cell_type": "markdown",
      "source": [
        "Punto 4"
      ],
      "metadata": {
        "id": "VKj31r0e9NSa"
      }
    },
    {
      "cell_type": "code",
      "source": [
        "#Seleccion de activo y factores\n",
        "fechainicial = \"2016-12-01\"\n",
        "fechafinal = \"2021-12-31\"\n",
        "periodicidad = \"1Mo\"\n",
        "activos = [\"TM\"]\n",
        "p_ejercicio = yf.download(activos,start=fechainicial,end=fechafinal,interval=periodicidad)['Adj Close'].dropna()\n",
        "r_ejercicio = np.log(p_ejercicio/p_ejercicio.shift(1)).dropna()\n",
        "\n",
        "indice1 = yf.download(\"^GSPC\",start=fechainicial,end=fechafinal,interval=periodicidad)['Adj Close'].dropna()\n",
        "r_indice1 = np.log(indice1/indice1.shift(1)).dropna()\n",
        "\n",
        "indice2 = yf.download(\"SLX\",start=fechainicial,end=fechafinal,interval=periodicidad)['Adj Close'].dropna()\n",
        "r_indice2 = np.log(indice2/indice2.shift(1)).dropna()\n"
      ],
      "metadata": {
        "colab": {
          "base_uri": "https://localhost:8080/"
        },
        "id": "0mXh_GopADUL",
        "outputId": "5da4c80f-539f-4b1c-e84e-b05444f83b23"
      },
      "execution_count": null,
      "outputs": [
        {
          "output_type": "stream",
          "name": "stdout",
          "text": [
            "[*********************100%***********************]  1 of 1 completed\n",
            "[*********************100%***********************]  1 of 1 completed\n",
            "[*********************100%***********************]  1 of 1 completed\n"
          ]
        }
      ]
    },
    {
      "cell_type": "code",
      "source": [
        "slope, intercept, r, p, std_err = stats.linregress(r_indice1, r_ejercicio)\n",
        "def linestim(x):\n",
        "  return intercept + slope * x\n",
        "\n",
        "model = list(map(linestim, r_indice1))\n",
        "\n",
        "\n"
      ],
      "metadata": {
        "id": "n-1zw33LCtfy"
      },
      "execution_count": null,
      "outputs": []
    },
    {
      "cell_type": "code",
      "source": [
        "lm = LinearRegression()\n",
        "model = lm.fit(pd.DataFrame(r_indice1), pd.DataFrame(r_ejercicio))\n",
        "print(f'alpha = {model.intercept_}')\n",
        "print(f'betas = {model.coef_}')"
      ],
      "metadata": {
        "colab": {
          "base_uri": "https://localhost:8080/"
        },
        "id": "bMUl7ahFCxet",
        "outputId": "3e556e80-73b1-4716-afe2-e5f6e80bde55"
      },
      "execution_count": null,
      "outputs": [
        {
          "output_type": "stream",
          "name": "stdout",
          "text": [
            "alpha = [0.00087282]\n",
            "betas = [[0.53696369]]\n"
          ]
        }
      ]
    },
    {
      "cell_type": "code",
      "source": [
        "slope, intercept, r, p, std_err = stats.linregress(r_indice2, r_ejercicio)\n",
        "def linestim(x):\n",
        "  return intercept + slope * x\n",
        "\n",
        "model = list(map(linestim, r_indice2))"
      ],
      "metadata": {
        "id": "YV0QfW24C3A3"
      },
      "execution_count": null,
      "outputs": []
    },
    {
      "cell_type": "code",
      "source": [
        "lm = LinearRegression()\n",
        "model = lm.fit(pd.DataFrame(r_indice2), pd.DataFrame(r_ejercicio))\n",
        "print(f'alpha = {model.intercept_}')\n",
        "print(f'betas = {model.coef_}')"
      ],
      "metadata": {
        "colab": {
          "base_uri": "https://localhost:8080/"
        },
        "id": "oObe5dsGC5gv",
        "outputId": "e5ba9a8f-3a67-454c-a3e0-df23de110d02"
      },
      "execution_count": null,
      "outputs": [
        {
          "output_type": "stream",
          "name": "stdout",
          "text": [
            "alpha = [0.0052892]\n",
            "betas = [[0.29052271]]\n"
          ]
        }
      ]
    },
    {
      "cell_type": "code",
      "source": [
        "t = len(r_indice1)\n",
        "unos = pd.DataFrame(np.repeat(1,t))\n",
        "r_indice3 = pd.DataFrame(r_indice1)\n",
        "r_indice4=pd.DataFrame(r_indice2)\n",
        "r_ejercicio2 = pd.DataFrame(r_ejercicio)\n",
        "\n",
        "variables = np.concatenate((unos,r_indice3,r_indice4),1)\n",
        "X = variables.T @ variables\n",
        "\n",
        "Xy = variables.T @ r_ejercicio2\n",
        "\n",
        "Solucion= np.linalg.solve(X,Xy)\n",
        "Solucion"
      ],
      "metadata": {
        "colab": {
          "base_uri": "https://localhost:8080/"
        },
        "id": "TZVQh3xFDf5Q",
        "outputId": "62d9ec13-f620-4642-a079-9c2ffc8565c4"
      },
      "execution_count": null,
      "outputs": [
        {
          "output_type": "execute_result",
          "data": {
            "text/plain": [
              "array([[0.00291266],\n",
              "       [0.25233799],\n",
              "       [0.19129071]])"
            ]
          },
          "metadata": {},
          "execution_count": 23
        }
      ]
    },
    {
      "cell_type": "markdown",
      "source": [
        "Interpretación:\n",
        "\n",
        "Para iniciar hay que tener en cuenta las variables seleccionadas para el desarrollo del problema, para eso seleccionamos el activo Toyota Motor Corporation (TM). Adicionalmente, seleccionamos el indice Standar & Poor´s 500 (GSPC) y VanEck Steel ETF (SLX) como variables o factores que pueden intervenir en la variabilidad del activo, lo cual va hacer dmeostrado por: \n",
        "\n",
        "β̂ = Q −1b = (X TX) −1XTy\n",
        "\n",
        "Con lo anterior, se realizo la estimacion lineal del activo y los indices para tener como resultado los valores que corresponden al rendimiento con respecto a los factores (Aplha) y el riesgo del activo (Beta). \n",
        "\n",
        "**Aplha**\n",
        "Para este caso, podemos establecer que las correlaciones del activo TM para los dos factores GSPC y SLX mantienen valores positivos, siendo 0.00087 para GSPC y 0.00528 para SLX, por lo que podemos afirmar que el rendimiento del activo TM fue mayor que las que se obtuvieron en el mercado.\n",
        "\n",
        "**Beta**\n",
        "Como resultado de los modelos establecidos (indice 1) se puede apreciar una correlacion positiva del activo seleccionado TM y GSPC con un movimiento de 0.53 pp, por otro lado si vemos la correlacion entre el activo TM y el segundo factor SLX este solo tiene una variacion de 0.29 pp. Con todos podemos decir que el activo seleccionado no mantiene un comportamiento volatil en el mercado con respecto a los factores utilizados, por lo que en ninguno de los dos casos el activo es agresivo. \n",
        "\n",
        "Con respecto a las estimaciones realizados en los mercados con respecto a los factores y la estimacion MCO podemos ver como resultado que para el activo TM mantiene un rendimiento positivo pero por debajo de las de los factores, siendo de 0.002 y una variacion de 0.25 de GSPC y 0.19 para SLX. Por lo que podemos concluir, que tanto para el indice de Standar & Poor´s y VanEck Steel ETF Toyota Motor Corporation existe una correlacion notoria para los dos.\n",
        "\n",
        "\n"
      ],
      "metadata": {
        "id": "56etk7YHD495"
      }
    },
    {
      "cell_type": "markdown",
      "source": [
        "Punto 5"
      ],
      "metadata": {
        "id": "tlj-l81GTJUE"
      }
    },
    {
      "cell_type": "code",
      "source": [
        "b = np.array([100, 200, 800, 100, 800, 1200])\n",
        "c = np.array([109, 94.8, 99.5, 93.1, 97.2, 92.9, 110, 104, 102, 95.2, 0, 0, 0, 0, 0, 0])\n",
        "A = np.array([[10, 7, 8, 6, 7, 5, 10, 8,7,100, -1, 0, 0, 0, 0, 0],\n",
        "              [10, 7, 8, 6, 7, 5, 10, 8, 7, 0, 1, -1, 0, 0, 0, 0],\n",
        "              [10, 7, 8, 6, 7, 5, 110,108,0,0, 0, 1, -1, 0, 0, 0],\n",
        "              [10, 7, 8, 6, 7, 105, 0, 0, 0,0, 0, 0, 1, -1, 0, 0],\n",
        "              [10, 7, 8, 106, 107, 0, 0,0,0,0, 0, 0, 0, 1, -1, 0],\n",
        "              [110, 107, 108, 0, 0, 0,0,0,0,0, 0, 0, 0, 0, 1, -1]])\n",
        "\n",
        "\n",
        "#Solución con cvxpy\n",
        "n = len(c) # # de elementos que requiere el vector c\n",
        "x = cp.Variable(n) #Mismo tamaño de c porque se debe operar x con c\n",
        "\n",
        "objective = cp.Minimize(c.T @ x )\n",
        "constraints = [A @ x >= b, x>=0]\n",
        "prob = cp.Problem(objective, constraints)\n",
        "\n",
        "# The optimal objective value is returned by `prob.solve()`.\n",
        "result = prob.solve()\n",
        "# The optimal value for x is stored in `x.value`.\n",
        "sol = round(pd.DataFrame(x.value),4)\n",
        "sol"
      ],
      "metadata": {
        "colab": {
          "base_uri": "https://localhost:8080/",
          "height": 551
        },
        "id": "ZUk5NL0cTIHT",
        "outputId": "fe34d053-efcf-4702-d50a-3fc8b962163a"
      },
      "execution_count": null,
      "outputs": [
        {
          "output_type": "execute_result",
          "data": {
            "text/plain": [
              "          0\n",
              "0    0.0000\n",
              "1   11.2150\n",
              "2    0.0000\n",
              "3    6.6338\n",
              "4    0.0000\n",
              "5    0.0000\n",
              "6    0.0000\n",
              "7    6.0087\n",
              "8   -0.0000\n",
              "9    0.0000\n",
              "10  66.3772\n",
              "11  32.7544\n",
              "12   0.0000\n",
              "13  18.3077\n",
              "14   0.0000\n",
              "15   0.0000"
            ],
            "text/html": [
              "\n",
              "  <div id=\"df-70f3cc3d-b745-416b-b566-b84620a07b50\">\n",
              "    <div class=\"colab-df-container\">\n",
              "      <div>\n",
              "<style scoped>\n",
              "    .dataframe tbody tr th:only-of-type {\n",
              "        vertical-align: middle;\n",
              "    }\n",
              "\n",
              "    .dataframe tbody tr th {\n",
              "        vertical-align: top;\n",
              "    }\n",
              "\n",
              "    .dataframe thead th {\n",
              "        text-align: right;\n",
              "    }\n",
              "</style>\n",
              "<table border=\"1\" class=\"dataframe\">\n",
              "  <thead>\n",
              "    <tr style=\"text-align: right;\">\n",
              "      <th></th>\n",
              "      <th>0</th>\n",
              "    </tr>\n",
              "  </thead>\n",
              "  <tbody>\n",
              "    <tr>\n",
              "      <th>0</th>\n",
              "      <td>0.0000</td>\n",
              "    </tr>\n",
              "    <tr>\n",
              "      <th>1</th>\n",
              "      <td>11.2150</td>\n",
              "    </tr>\n",
              "    <tr>\n",
              "      <th>2</th>\n",
              "      <td>0.0000</td>\n",
              "    </tr>\n",
              "    <tr>\n",
              "      <th>3</th>\n",
              "      <td>6.6338</td>\n",
              "    </tr>\n",
              "    <tr>\n",
              "      <th>4</th>\n",
              "      <td>0.0000</td>\n",
              "    </tr>\n",
              "    <tr>\n",
              "      <th>5</th>\n",
              "      <td>0.0000</td>\n",
              "    </tr>\n",
              "    <tr>\n",
              "      <th>6</th>\n",
              "      <td>0.0000</td>\n",
              "    </tr>\n",
              "    <tr>\n",
              "      <th>7</th>\n",
              "      <td>6.0087</td>\n",
              "    </tr>\n",
              "    <tr>\n",
              "      <th>8</th>\n",
              "      <td>-0.0000</td>\n",
              "    </tr>\n",
              "    <tr>\n",
              "      <th>9</th>\n",
              "      <td>0.0000</td>\n",
              "    </tr>\n",
              "    <tr>\n",
              "      <th>10</th>\n",
              "      <td>66.3772</td>\n",
              "    </tr>\n",
              "    <tr>\n",
              "      <th>11</th>\n",
              "      <td>32.7544</td>\n",
              "    </tr>\n",
              "    <tr>\n",
              "      <th>12</th>\n",
              "      <td>0.0000</td>\n",
              "    </tr>\n",
              "    <tr>\n",
              "      <th>13</th>\n",
              "      <td>18.3077</td>\n",
              "    </tr>\n",
              "    <tr>\n",
              "      <th>14</th>\n",
              "      <td>0.0000</td>\n",
              "    </tr>\n",
              "    <tr>\n",
              "      <th>15</th>\n",
              "      <td>0.0000</td>\n",
              "    </tr>\n",
              "  </tbody>\n",
              "</table>\n",
              "</div>\n",
              "      <button class=\"colab-df-convert\" onclick=\"convertToInteractive('df-70f3cc3d-b745-416b-b566-b84620a07b50')\"\n",
              "              title=\"Convert this dataframe to an interactive table.\"\n",
              "              style=\"display:none;\">\n",
              "        \n",
              "  <svg xmlns=\"http://www.w3.org/2000/svg\" height=\"24px\"viewBox=\"0 0 24 24\"\n",
              "       width=\"24px\">\n",
              "    <path d=\"M0 0h24v24H0V0z\" fill=\"none\"/>\n",
              "    <path d=\"M18.56 5.44l.94 2.06.94-2.06 2.06-.94-2.06-.94-.94-2.06-.94 2.06-2.06.94zm-11 1L8.5 8.5l.94-2.06 2.06-.94-2.06-.94L8.5 2.5l-.94 2.06-2.06.94zm10 10l.94 2.06.94-2.06 2.06-.94-2.06-.94-.94-2.06-.94 2.06-2.06.94z\"/><path d=\"M17.41 7.96l-1.37-1.37c-.4-.4-.92-.59-1.43-.59-.52 0-1.04.2-1.43.59L10.3 9.45l-7.72 7.72c-.78.78-.78 2.05 0 2.83L4 21.41c.39.39.9.59 1.41.59.51 0 1.02-.2 1.41-.59l7.78-7.78 2.81-2.81c.8-.78.8-2.07 0-2.86zM5.41 20L4 18.59l7.72-7.72 1.47 1.35L5.41 20z\"/>\n",
              "  </svg>\n",
              "      </button>\n",
              "      \n",
              "  <style>\n",
              "    .colab-df-container {\n",
              "      display:flex;\n",
              "      flex-wrap:wrap;\n",
              "      gap: 12px;\n",
              "    }\n",
              "\n",
              "    .colab-df-convert {\n",
              "      background-color: #E8F0FE;\n",
              "      border: none;\n",
              "      border-radius: 50%;\n",
              "      cursor: pointer;\n",
              "      display: none;\n",
              "      fill: #1967D2;\n",
              "      height: 32px;\n",
              "      padding: 0 0 0 0;\n",
              "      width: 32px;\n",
              "    }\n",
              "\n",
              "    .colab-df-convert:hover {\n",
              "      background-color: #E2EBFA;\n",
              "      box-shadow: 0px 1px 2px rgba(60, 64, 67, 0.3), 0px 1px 3px 1px rgba(60, 64, 67, 0.15);\n",
              "      fill: #174EA6;\n",
              "    }\n",
              "\n",
              "    [theme=dark] .colab-df-convert {\n",
              "      background-color: #3B4455;\n",
              "      fill: #D2E3FC;\n",
              "    }\n",
              "\n",
              "    [theme=dark] .colab-df-convert:hover {\n",
              "      background-color: #434B5C;\n",
              "      box-shadow: 0px 1px 3px 1px rgba(0, 0, 0, 0.15);\n",
              "      filter: drop-shadow(0px 1px 2px rgba(0, 0, 0, 0.3));\n",
              "      fill: #FFFFFF;\n",
              "    }\n",
              "  </style>\n",
              "\n",
              "      <script>\n",
              "        const buttonEl =\n",
              "          document.querySelector('#df-70f3cc3d-b745-416b-b566-b84620a07b50 button.colab-df-convert');\n",
              "        buttonEl.style.display =\n",
              "          google.colab.kernel.accessAllowed ? 'block' : 'none';\n",
              "\n",
              "        async function convertToInteractive(key) {\n",
              "          const element = document.querySelector('#df-70f3cc3d-b745-416b-b566-b84620a07b50');\n",
              "          const dataTable =\n",
              "            await google.colab.kernel.invokeFunction('convertToInteractive',\n",
              "                                                     [key], {});\n",
              "          if (!dataTable) return;\n",
              "\n",
              "          const docLinkHtml = 'Like what you see? Visit the ' +\n",
              "            '<a target=\"_blank\" href=https://colab.research.google.com/notebooks/data_table.ipynb>data table notebook</a>'\n",
              "            + ' to learn more about interactive tables.';\n",
              "          element.innerHTML = '';\n",
              "          dataTable['output_type'] = 'display_data';\n",
              "          await google.colab.output.renderOutput(dataTable, element);\n",
              "          const docLink = document.createElement('div');\n",
              "          docLink.innerHTML = docLinkHtml;\n",
              "          element.appendChild(docLink);\n",
              "        }\n",
              "      </script>\n",
              "    </div>\n",
              "  </div>\n",
              "  "
            ]
          },
          "metadata": {},
          "execution_count": 7
        }
      ]
    },
    {
      "cell_type": "markdown",
      "source": [
        "\n",
        "Interpretación:\n",
        "\n",
        "En este caso, para el desarrollo de este problema planteamos 3 matrices b, c, A \n",
        "donde b representa los precios actuales, c los requerimientos y A abarca a los bonos emitidos por los gobiernos teniendo en cuenta los exedentes de efectivo que pueden transferirse en los años. Para minimizar el costo y garantizar que el flujo de efectivo sea suficiente para cubrir el requerimiento del fondo, se elabora la solucion del problema en cvx donde x que abarca las 10 primeras filas seria el portafolio con el menor costo, las 6 filas restantes hacen parte del residuo, es decir la diferenci entre el saldo a favor menos el requerimiento.\n",
        "\n",
        "\n",
        "\n"
      ],
      "metadata": {
        "id": "MBg2JHM1qJrG"
      }
    }
  ]
}